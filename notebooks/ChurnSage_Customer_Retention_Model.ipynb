{
 "cells": [
  {
   "cell_type": "markdown",
   "metadata": {},
   "source": [
    "# ChurnSage: Customer Retention Intelligence\n",
    "\n",
    "Customer churn is one of the biggest challenges faced by businesses today. Losing customers directly impacts revenue and long-term growth. This project leverages data-driven insights and machine learning to predict and prevent customer churn effectively.\n",
    "\n",
    "With ChurnSage, we aim to uncover patterns that signal churn and empower businesses to take strategic actions for improved customer retention.\n"
   ]
  },
  {
   "cell_type": "markdown",
   "metadata": {},
   "source": [
    "## 2. Business Understanding\n",
    "\n",
    "Customer churn — the process where customers discontinue using a company's product or service — presents a significant challenge for businesses, especially in competitive and subscription-based industries. It not only impacts revenue, but also increases the cost of customer acquisition and reduces long-term profitability.\n",
    "\n",
    "In this project, I aim to build a data-driven framework that enables early identification of customers likely to churn. My goal is to empower decision-makers with predictive insights that inform timely interventions, customer retention strategies, and improved service personalization.\n",
    "\n",
    "### Problem Statement\n",
    "Many businesses lack the analytical infrastructure to anticipate churn before it happens. Without accurate forecasting, retention efforts are reactive rather than proactive. This leads to avoidable customer losses and missed opportunities for engagement.\n",
    "\n",
    "### Project Objectives\n",
    "Through this analysis and modeling process, I aim to:\n",
    "\n",
    "- Identify key patterns and factors that influence customer churn.\n",
    "- Develop a predictive machine learning model capable of flagging high-risk customers.\n",
    "- Translate model outcomes into actionable recommendations for business teams.\n",
    "- Demonstrate end-to-end capability in solving a real-world business problem using data science.\n",
    "\n",
    "### Key Business Questions\n",
    "This project aims to answer the following critical questions:\n",
    "\n",
    "- What behavioral, demographic, or transactional factors contribute to customer churn?\n",
    "- Can I develop a reliable machine learning model to predict churn before it happens?\n",
    "- What strategies or business actions can be informed by these predictive insights?\n",
    "\n",
    "By the end of this project, I intend to showcase a complete workflow — from problem understanding to deployment-ready solutions — while aligning technical outputs with strategic business goals.\n"
   ]
  },
  {
   "cell_type": "markdown",
   "metadata": {},
   "source": [
    "## 3. Data Understanding\n",
    "\n",
    "In this section, I begin by loading the dataset and conducting an initial exploration to understand its structure, data types, and general characteristics.\n",
    "\n",
    "This step is critical for identifying potential issues such as missing values, data imbalances, or irregularities that may affect model performance later.\n",
    "\n",
    "The dataset used in this project is a publicly available churn dataset from [BigML](https://bigml.com), which simulates customer data for a telecom company.\n",
    "\n",
    "The dataset is stored in the `data/` folder and consists of behavioral and demographic attributes such as `account length`, `voice mail plan`, `international plan`, `customer service calls`, and whether or not the customer has churned.\n"
   ]
  },
  {
   "cell_type": "markdown",
   "metadata": {},
   "source": [
    "### Load and Preview the Data"
   ]
  },
  {
   "cell_type": "code",
   "execution_count": 1,
   "metadata": {},
   "outputs": [
    {
     "data": {
      "text/html": [
       "<div>\n",
       "<style scoped>\n",
       "    .dataframe tbody tr th:only-of-type {\n",
       "        vertical-align: middle;\n",
       "    }\n",
       "\n",
       "    .dataframe tbody tr th {\n",
       "        vertical-align: top;\n",
       "    }\n",
       "\n",
       "    .dataframe thead th {\n",
       "        text-align: right;\n",
       "    }\n",
       "</style>\n",
       "<table border=\"1\" class=\"dataframe\">\n",
       "  <thead>\n",
       "    <tr style=\"text-align: right;\">\n",
       "      <th></th>\n",
       "      <th>state</th>\n",
       "      <th>account length</th>\n",
       "      <th>area code</th>\n",
       "      <th>phone number</th>\n",
       "      <th>international plan</th>\n",
       "      <th>voice mail plan</th>\n",
       "      <th>number vmail messages</th>\n",
       "      <th>total day minutes</th>\n",
       "      <th>total day calls</th>\n",
       "      <th>total day charge</th>\n",
       "      <th>...</th>\n",
       "      <th>total eve calls</th>\n",
       "      <th>total eve charge</th>\n",
       "      <th>total night minutes</th>\n",
       "      <th>total night calls</th>\n",
       "      <th>total night charge</th>\n",
       "      <th>total intl minutes</th>\n",
       "      <th>total intl calls</th>\n",
       "      <th>total intl charge</th>\n",
       "      <th>customer service calls</th>\n",
       "      <th>churn</th>\n",
       "    </tr>\n",
       "  </thead>\n",
       "  <tbody>\n",
       "    <tr>\n",
       "      <th>0</th>\n",
       "      <td>KS</td>\n",
       "      <td>128</td>\n",
       "      <td>415</td>\n",
       "      <td>382-4657</td>\n",
       "      <td>no</td>\n",
       "      <td>yes</td>\n",
       "      <td>25</td>\n",
       "      <td>265.1</td>\n",
       "      <td>110</td>\n",
       "      <td>45.07</td>\n",
       "      <td>...</td>\n",
       "      <td>99</td>\n",
       "      <td>16.78</td>\n",
       "      <td>244.7</td>\n",
       "      <td>91</td>\n",
       "      <td>11.01</td>\n",
       "      <td>10.0</td>\n",
       "      <td>3</td>\n",
       "      <td>2.70</td>\n",
       "      <td>1</td>\n",
       "      <td>False</td>\n",
       "    </tr>\n",
       "    <tr>\n",
       "      <th>1</th>\n",
       "      <td>OH</td>\n",
       "      <td>107</td>\n",
       "      <td>415</td>\n",
       "      <td>371-7191</td>\n",
       "      <td>no</td>\n",
       "      <td>yes</td>\n",
       "      <td>26</td>\n",
       "      <td>161.6</td>\n",
       "      <td>123</td>\n",
       "      <td>27.47</td>\n",
       "      <td>...</td>\n",
       "      <td>103</td>\n",
       "      <td>16.62</td>\n",
       "      <td>254.4</td>\n",
       "      <td>103</td>\n",
       "      <td>11.45</td>\n",
       "      <td>13.7</td>\n",
       "      <td>3</td>\n",
       "      <td>3.70</td>\n",
       "      <td>1</td>\n",
       "      <td>False</td>\n",
       "    </tr>\n",
       "    <tr>\n",
       "      <th>2</th>\n",
       "      <td>NJ</td>\n",
       "      <td>137</td>\n",
       "      <td>415</td>\n",
       "      <td>358-1921</td>\n",
       "      <td>no</td>\n",
       "      <td>no</td>\n",
       "      <td>0</td>\n",
       "      <td>243.4</td>\n",
       "      <td>114</td>\n",
       "      <td>41.38</td>\n",
       "      <td>...</td>\n",
       "      <td>110</td>\n",
       "      <td>10.30</td>\n",
       "      <td>162.6</td>\n",
       "      <td>104</td>\n",
       "      <td>7.32</td>\n",
       "      <td>12.2</td>\n",
       "      <td>5</td>\n",
       "      <td>3.29</td>\n",
       "      <td>0</td>\n",
       "      <td>False</td>\n",
       "    </tr>\n",
       "    <tr>\n",
       "      <th>3</th>\n",
       "      <td>OH</td>\n",
       "      <td>84</td>\n",
       "      <td>408</td>\n",
       "      <td>375-9999</td>\n",
       "      <td>yes</td>\n",
       "      <td>no</td>\n",
       "      <td>0</td>\n",
       "      <td>299.4</td>\n",
       "      <td>71</td>\n",
       "      <td>50.90</td>\n",
       "      <td>...</td>\n",
       "      <td>88</td>\n",
       "      <td>5.26</td>\n",
       "      <td>196.9</td>\n",
       "      <td>89</td>\n",
       "      <td>8.86</td>\n",
       "      <td>6.6</td>\n",
       "      <td>7</td>\n",
       "      <td>1.78</td>\n",
       "      <td>2</td>\n",
       "      <td>False</td>\n",
       "    </tr>\n",
       "    <tr>\n",
       "      <th>4</th>\n",
       "      <td>OK</td>\n",
       "      <td>75</td>\n",
       "      <td>415</td>\n",
       "      <td>330-6626</td>\n",
       "      <td>yes</td>\n",
       "      <td>no</td>\n",
       "      <td>0</td>\n",
       "      <td>166.7</td>\n",
       "      <td>113</td>\n",
       "      <td>28.34</td>\n",
       "      <td>...</td>\n",
       "      <td>122</td>\n",
       "      <td>12.61</td>\n",
       "      <td>186.9</td>\n",
       "      <td>121</td>\n",
       "      <td>8.41</td>\n",
       "      <td>10.1</td>\n",
       "      <td>3</td>\n",
       "      <td>2.73</td>\n",
       "      <td>3</td>\n",
       "      <td>False</td>\n",
       "    </tr>\n",
       "  </tbody>\n",
       "</table>\n",
       "<p>5 rows × 21 columns</p>\n",
       "</div>"
      ],
      "text/plain": [
       "  state  account length  area code phone number international plan  \\\n",
       "0    KS             128        415     382-4657                 no   \n",
       "1    OH             107        415     371-7191                 no   \n",
       "2    NJ             137        415     358-1921                 no   \n",
       "3    OH              84        408     375-9999                yes   \n",
       "4    OK              75        415     330-6626                yes   \n",
       "\n",
       "  voice mail plan  number vmail messages  total day minutes  total day calls  \\\n",
       "0             yes                     25              265.1              110   \n",
       "1             yes                     26              161.6              123   \n",
       "2              no                      0              243.4              114   \n",
       "3              no                      0              299.4               71   \n",
       "4              no                      0              166.7              113   \n",
       "\n",
       "   total day charge  ...  total eve calls  total eve charge  \\\n",
       "0             45.07  ...               99             16.78   \n",
       "1             27.47  ...              103             16.62   \n",
       "2             41.38  ...              110             10.30   \n",
       "3             50.90  ...               88              5.26   \n",
       "4             28.34  ...              122             12.61   \n",
       "\n",
       "   total night minutes  total night calls  total night charge  \\\n",
       "0                244.7                 91               11.01   \n",
       "1                254.4                103               11.45   \n",
       "2                162.6                104                7.32   \n",
       "3                196.9                 89                8.86   \n",
       "4                186.9                121                8.41   \n",
       "\n",
       "   total intl minutes  total intl calls  total intl charge  \\\n",
       "0                10.0                 3               2.70   \n",
       "1                13.7                 3               3.70   \n",
       "2                12.2                 5               3.29   \n",
       "3                 6.6                 7               1.78   \n",
       "4                10.1                 3               2.73   \n",
       "\n",
       "   customer service calls  churn  \n",
       "0                       1  False  \n",
       "1                       1  False  \n",
       "2                       0  False  \n",
       "3                       2  False  \n",
       "4                       3  False  \n",
       "\n",
       "[5 rows x 21 columns]"
      ]
     },
     "execution_count": 1,
     "metadata": {},
     "output_type": "execute_result"
    }
   ],
   "source": [
    "# Import essential libraries\n",
    "import pandas as pd\n",
    "\n",
    "# Load the dataset\n",
    "file_path = '../data/bigml_59c28831336c6604c800002a.csv'\n",
    "df = pd.read_csv(file_path)\n",
    "\n",
    "# Preview the first 5 rows\n",
    "df.head()\n"
   ]
  },
  {
   "cell_type": "code",
   "execution_count": 3,
   "metadata": {},
   "outputs": [
    {
     "data": {
      "text/plain": [
       "<bound method DataFrame.info of      state  account length  area code phone number international plan  \\\n",
       "0       KS             128        415     382-4657                 no   \n",
       "1       OH             107        415     371-7191                 no   \n",
       "2       NJ             137        415     358-1921                 no   \n",
       "3       OH              84        408     375-9999                yes   \n",
       "4       OK              75        415     330-6626                yes   \n",
       "...    ...             ...        ...          ...                ...   \n",
       "3328    AZ             192        415     414-4276                 no   \n",
       "3329    WV              68        415     370-3271                 no   \n",
       "3330    RI              28        510     328-8230                 no   \n",
       "3331    CT             184        510     364-6381                yes   \n",
       "3332    TN              74        415     400-4344                 no   \n",
       "\n",
       "     voice mail plan  number vmail messages  total day minutes  \\\n",
       "0                yes                     25              265.1   \n",
       "1                yes                     26              161.6   \n",
       "2                 no                      0              243.4   \n",
       "3                 no                      0              299.4   \n",
       "4                 no                      0              166.7   \n",
       "...              ...                    ...                ...   \n",
       "3328             yes                     36              156.2   \n",
       "3329              no                      0              231.1   \n",
       "3330              no                      0              180.8   \n",
       "3331              no                      0              213.8   \n",
       "3332             yes                     25              234.4   \n",
       "\n",
       "      total day calls  total day charge  ...  total eve calls  \\\n",
       "0                 110             45.07  ...               99   \n",
       "1                 123             27.47  ...              103   \n",
       "2                 114             41.38  ...              110   \n",
       "3                  71             50.90  ...               88   \n",
       "4                 113             28.34  ...              122   \n",
       "...               ...               ...  ...              ...   \n",
       "3328               77             26.55  ...              126   \n",
       "3329               57             39.29  ...               55   \n",
       "3330              109             30.74  ...               58   \n",
       "3331              105             36.35  ...               84   \n",
       "3332              113             39.85  ...               82   \n",
       "\n",
       "      total eve charge  total night minutes  total night calls  \\\n",
       "0                16.78                244.7                 91   \n",
       "1                16.62                254.4                103   \n",
       "2                10.30                162.6                104   \n",
       "3                 5.26                196.9                 89   \n",
       "4                12.61                186.9                121   \n",
       "...                ...                  ...                ...   \n",
       "3328             18.32                279.1                 83   \n",
       "3329             13.04                191.3                123   \n",
       "3330             24.55                191.9                 91   \n",
       "3331             13.57                139.2                137   \n",
       "3332             22.60                241.4                 77   \n",
       "\n",
       "      total night charge  total intl minutes  total intl calls  \\\n",
       "0                  11.01                10.0                 3   \n",
       "1                  11.45                13.7                 3   \n",
       "2                   7.32                12.2                 5   \n",
       "3                   8.86                 6.6                 7   \n",
       "4                   8.41                10.1                 3   \n",
       "...                  ...                 ...               ...   \n",
       "3328               12.56                 9.9                 6   \n",
       "3329                8.61                 9.6                 4   \n",
       "3330                8.64                14.1                 6   \n",
       "3331                6.26                 5.0                10   \n",
       "3332               10.86                13.7                 4   \n",
       "\n",
       "      total intl charge  customer service calls  churn  \n",
       "0                  2.70                       1  False  \n",
       "1                  3.70                       1  False  \n",
       "2                  3.29                       0  False  \n",
       "3                  1.78                       2  False  \n",
       "4                  2.73                       3  False  \n",
       "...                 ...                     ...    ...  \n",
       "3328               2.67                       2  False  \n",
       "3329               2.59                       3  False  \n",
       "3330               3.81                       2  False  \n",
       "3331               1.35                       2  False  \n",
       "3332               3.70                       0  False  \n",
       "\n",
       "[3333 rows x 21 columns]>"
      ]
     },
     "execution_count": 3,
     "metadata": {},
     "output_type": "execute_result"
    }
   ],
   "source": [
    "df.info"
   ]
  },
  {
   "cell_type": "markdown",
   "metadata": {},
   "source": [
    "## 4. Data Preparation\n",
    "\n",
    "Before conducting exploratory analysis and building predictive models, it is important to ensure the dataset is clean, consistent, and in a usable format.\n",
    "\n",
    "In this section, I aim to:\n",
    "\n",
    "- Check for and handle missing or inconsistent data.\n",
    "- Convert data types where necessary.\n",
    "- Encode categorical variables appropriately.\n",
    "- Perform any basic feature engineering or transformations required for modeling.\n"
   ]
  },
  {
   "cell_type": "markdown",
   "metadata": {},
   "source": [
    "## 4.1 Check for Missing Values"
   ]
  },
  {
   "cell_type": "code",
   "execution_count": 10,
   "metadata": {},
   "outputs": [
    {
     "name": "stdout",
     "output_type": "stream",
     "text": [
      "✅ No missing values found in the dataset.\n"
     ]
    }
   ],
   "source": [
    "# Check for missing values in each column\n",
    "missing = df.isnull().sum()\n",
    "missing = missing[missing > 0]\n",
    "\n",
    "if missing.empty:\n",
    "    print(\"✅ No missing values found in the dataset.\")\n",
    "else:\n",
    "    print(\"⚠️ Missing values detected:\\n\", missing)"
   ]
  },
  {
   "cell_type": "markdown",
   "metadata": {},
   "source": [
    "## 4.2 Check and Fix Data Types "
   ]
  },
  {
   "cell_type": "code",
   "execution_count": 13,
   "metadata": {
    "scrolled": true
   },
   "outputs": [
    {
     "data": {
      "text/plain": [
       "state                      object\n",
       "account length              int64\n",
       "area code                   int64\n",
       "international plan         object\n",
       "voice mail plan            object\n",
       "number vmail messages       int64\n",
       "total day minutes         float64\n",
       "total day calls             int64\n",
       "total day charge          float64\n",
       "total eve minutes         float64\n",
       "total eve calls             int64\n",
       "total eve charge          float64\n",
       "total night minutes       float64\n",
       "total night calls           int64\n",
       "total night charge        float64\n",
       "total intl minutes        float64\n",
       "total intl calls            int64\n",
       "total intl charge         float64\n",
       "customer service calls      int64\n",
       "churn                        bool\n",
       "dtype: object"
      ]
     },
     "execution_count": 13,
     "metadata": {},
     "output_type": "execute_result"
    }
   ],
   "source": [
    "# 4.2 Check and Fix Data Types\n",
    "# Display data types of all columns\n",
    "df.dtypes\n"
   ]
  },
  {
   "cell_type": "markdown",
   "metadata": {},
   "source": [
    "## 4.3 Identify Categorical Columns"
   ]
  },
  {
   "cell_type": "code",
   "execution_count": 14,
   "metadata": {},
   "outputs": [
    {
     "name": "stdout",
     "output_type": "stream",
     "text": [
      "Categorical Columns: ['state', 'international plan', 'voice mail plan']\n"
     ]
    }
   ],
   "source": [
    "# 4.3 Identify Categorical Columns\n",
    "# List of categorical variables\n",
    "categorical_cols = df.select_dtypes(include='object').columns.tolist()\n",
    "print(\"Categorical Columns:\", categorical_cols)\n"
   ]
  },
  {
   "cell_type": "markdown",
   "metadata": {},
   "source": [
    "## 4.4 Encode Categorical Columns"
   ]
  },
  {
   "cell_type": "code",
   "execution_count": 15,
   "metadata": {},
   "outputs": [
    {
     "data": {
      "text/html": [
       "<div>\n",
       "<style scoped>\n",
       "    .dataframe tbody tr th:only-of-type {\n",
       "        vertical-align: middle;\n",
       "    }\n",
       "\n",
       "    .dataframe tbody tr th {\n",
       "        vertical-align: top;\n",
       "    }\n",
       "\n",
       "    .dataframe thead th {\n",
       "        text-align: right;\n",
       "    }\n",
       "</style>\n",
       "<table border=\"1\" class=\"dataframe\">\n",
       "  <thead>\n",
       "    <tr style=\"text-align: right;\">\n",
       "      <th></th>\n",
       "      <th>account length</th>\n",
       "      <th>area code</th>\n",
       "      <th>number vmail messages</th>\n",
       "      <th>total day minutes</th>\n",
       "      <th>total day calls</th>\n",
       "      <th>total day charge</th>\n",
       "      <th>total eve minutes</th>\n",
       "      <th>total eve calls</th>\n",
       "      <th>total eve charge</th>\n",
       "      <th>total night minutes</th>\n",
       "      <th>...</th>\n",
       "      <th>state_TX</th>\n",
       "      <th>state_UT</th>\n",
       "      <th>state_VA</th>\n",
       "      <th>state_VT</th>\n",
       "      <th>state_WA</th>\n",
       "      <th>state_WI</th>\n",
       "      <th>state_WV</th>\n",
       "      <th>state_WY</th>\n",
       "      <th>international plan_yes</th>\n",
       "      <th>voice mail plan_yes</th>\n",
       "    </tr>\n",
       "  </thead>\n",
       "  <tbody>\n",
       "    <tr>\n",
       "      <th>0</th>\n",
       "      <td>128</td>\n",
       "      <td>415</td>\n",
       "      <td>25</td>\n",
       "      <td>265.1</td>\n",
       "      <td>110</td>\n",
       "      <td>45.07</td>\n",
       "      <td>197.4</td>\n",
       "      <td>99</td>\n",
       "      <td>16.78</td>\n",
       "      <td>244.7</td>\n",
       "      <td>...</td>\n",
       "      <td>0</td>\n",
       "      <td>0</td>\n",
       "      <td>0</td>\n",
       "      <td>0</td>\n",
       "      <td>0</td>\n",
       "      <td>0</td>\n",
       "      <td>0</td>\n",
       "      <td>0</td>\n",
       "      <td>0</td>\n",
       "      <td>1</td>\n",
       "    </tr>\n",
       "    <tr>\n",
       "      <th>1</th>\n",
       "      <td>107</td>\n",
       "      <td>415</td>\n",
       "      <td>26</td>\n",
       "      <td>161.6</td>\n",
       "      <td>123</td>\n",
       "      <td>27.47</td>\n",
       "      <td>195.5</td>\n",
       "      <td>103</td>\n",
       "      <td>16.62</td>\n",
       "      <td>254.4</td>\n",
       "      <td>...</td>\n",
       "      <td>0</td>\n",
       "      <td>0</td>\n",
       "      <td>0</td>\n",
       "      <td>0</td>\n",
       "      <td>0</td>\n",
       "      <td>0</td>\n",
       "      <td>0</td>\n",
       "      <td>0</td>\n",
       "      <td>0</td>\n",
       "      <td>1</td>\n",
       "    </tr>\n",
       "    <tr>\n",
       "      <th>2</th>\n",
       "      <td>137</td>\n",
       "      <td>415</td>\n",
       "      <td>0</td>\n",
       "      <td>243.4</td>\n",
       "      <td>114</td>\n",
       "      <td>41.38</td>\n",
       "      <td>121.2</td>\n",
       "      <td>110</td>\n",
       "      <td>10.30</td>\n",
       "      <td>162.6</td>\n",
       "      <td>...</td>\n",
       "      <td>0</td>\n",
       "      <td>0</td>\n",
       "      <td>0</td>\n",
       "      <td>0</td>\n",
       "      <td>0</td>\n",
       "      <td>0</td>\n",
       "      <td>0</td>\n",
       "      <td>0</td>\n",
       "      <td>0</td>\n",
       "      <td>0</td>\n",
       "    </tr>\n",
       "    <tr>\n",
       "      <th>3</th>\n",
       "      <td>84</td>\n",
       "      <td>408</td>\n",
       "      <td>0</td>\n",
       "      <td>299.4</td>\n",
       "      <td>71</td>\n",
       "      <td>50.90</td>\n",
       "      <td>61.9</td>\n",
       "      <td>88</td>\n",
       "      <td>5.26</td>\n",
       "      <td>196.9</td>\n",
       "      <td>...</td>\n",
       "      <td>0</td>\n",
       "      <td>0</td>\n",
       "      <td>0</td>\n",
       "      <td>0</td>\n",
       "      <td>0</td>\n",
       "      <td>0</td>\n",
       "      <td>0</td>\n",
       "      <td>0</td>\n",
       "      <td>1</td>\n",
       "      <td>0</td>\n",
       "    </tr>\n",
       "    <tr>\n",
       "      <th>4</th>\n",
       "      <td>75</td>\n",
       "      <td>415</td>\n",
       "      <td>0</td>\n",
       "      <td>166.7</td>\n",
       "      <td>113</td>\n",
       "      <td>28.34</td>\n",
       "      <td>148.3</td>\n",
       "      <td>122</td>\n",
       "      <td>12.61</td>\n",
       "      <td>186.9</td>\n",
       "      <td>...</td>\n",
       "      <td>0</td>\n",
       "      <td>0</td>\n",
       "      <td>0</td>\n",
       "      <td>0</td>\n",
       "      <td>0</td>\n",
       "      <td>0</td>\n",
       "      <td>0</td>\n",
       "      <td>0</td>\n",
       "      <td>1</td>\n",
       "      <td>0</td>\n",
       "    </tr>\n",
       "  </tbody>\n",
       "</table>\n",
       "<p>5 rows × 69 columns</p>\n",
       "</div>"
      ],
      "text/plain": [
       "   account length  area code  number vmail messages  total day minutes  \\\n",
       "0             128        415                     25              265.1   \n",
       "1             107        415                     26              161.6   \n",
       "2             137        415                      0              243.4   \n",
       "3              84        408                      0              299.4   \n",
       "4              75        415                      0              166.7   \n",
       "\n",
       "   total day calls  total day charge  total eve minutes  total eve calls  \\\n",
       "0              110             45.07              197.4               99   \n",
       "1              123             27.47              195.5              103   \n",
       "2              114             41.38              121.2              110   \n",
       "3               71             50.90               61.9               88   \n",
       "4              113             28.34              148.3              122   \n",
       "\n",
       "   total eve charge  total night minutes  ...  state_TX  state_UT  state_VA  \\\n",
       "0             16.78                244.7  ...         0         0         0   \n",
       "1             16.62                254.4  ...         0         0         0   \n",
       "2             10.30                162.6  ...         0         0         0   \n",
       "3              5.26                196.9  ...         0         0         0   \n",
       "4             12.61                186.9  ...         0         0         0   \n",
       "\n",
       "   state_VT  state_WA  state_WI  state_WV  state_WY  international plan_yes  \\\n",
       "0         0         0         0         0         0                       0   \n",
       "1         0         0         0         0         0                       0   \n",
       "2         0         0         0         0         0                       0   \n",
       "3         0         0         0         0         0                       1   \n",
       "4         0         0         0         0         0                       1   \n",
       "\n",
       "   voice mail plan_yes  \n",
       "0                    1  \n",
       "1                    1  \n",
       "2                    0  \n",
       "3                    0  \n",
       "4                    0  \n",
       "\n",
       "[5 rows x 69 columns]"
      ]
     },
     "execution_count": 15,
     "metadata": {},
     "output_type": "execute_result"
    }
   ],
   "source": [
    "# 4.4 Encode Categorical Columns using one-hot encoding\n",
    "df_encoded = pd.get_dummies(df, drop_first=True)\n",
    "df_encoded.head()\n"
   ]
  },
  {
   "cell_type": "markdown",
   "metadata": {},
   "source": [
    "## 4.5 Confirm Final Dataset"
   ]
  },
  {
   "cell_type": "code",
   "execution_count": 16,
   "metadata": {},
   "outputs": [
    {
     "name": "stdout",
     "output_type": "stream",
     "text": [
      "<class 'pandas.core.frame.DataFrame'>\n",
      "RangeIndex: 3333 entries, 0 to 3332\n",
      "Data columns (total 69 columns):\n",
      " #   Column                  Non-Null Count  Dtype  \n",
      "---  ------                  --------------  -----  \n",
      " 0   account length          3333 non-null   int64  \n",
      " 1   area code               3333 non-null   int64  \n",
      " 2   number vmail messages   3333 non-null   int64  \n",
      " 3   total day minutes       3333 non-null   float64\n",
      " 4   total day calls         3333 non-null   int64  \n",
      " 5   total day charge        3333 non-null   float64\n",
      " 6   total eve minutes       3333 non-null   float64\n",
      " 7   total eve calls         3333 non-null   int64  \n",
      " 8   total eve charge        3333 non-null   float64\n",
      " 9   total night minutes     3333 non-null   float64\n",
      " 10  total night calls       3333 non-null   int64  \n",
      " 11  total night charge      3333 non-null   float64\n",
      " 12  total intl minutes      3333 non-null   float64\n",
      " 13  total intl calls        3333 non-null   int64  \n",
      " 14  total intl charge       3333 non-null   float64\n",
      " 15  customer service calls  3333 non-null   int64  \n",
      " 16  churn                   3333 non-null   bool   \n",
      " 17  state_AL                3333 non-null   uint8  \n",
      " 18  state_AR                3333 non-null   uint8  \n",
      " 19  state_AZ                3333 non-null   uint8  \n",
      " 20  state_CA                3333 non-null   uint8  \n",
      " 21  state_CO                3333 non-null   uint8  \n",
      " 22  state_CT                3333 non-null   uint8  \n",
      " 23  state_DC                3333 non-null   uint8  \n",
      " 24  state_DE                3333 non-null   uint8  \n",
      " 25  state_FL                3333 non-null   uint8  \n",
      " 26  state_GA                3333 non-null   uint8  \n",
      " 27  state_HI                3333 non-null   uint8  \n",
      " 28  state_IA                3333 non-null   uint8  \n",
      " 29  state_ID                3333 non-null   uint8  \n",
      " 30  state_IL                3333 non-null   uint8  \n",
      " 31  state_IN                3333 non-null   uint8  \n",
      " 32  state_KS                3333 non-null   uint8  \n",
      " 33  state_KY                3333 non-null   uint8  \n",
      " 34  state_LA                3333 non-null   uint8  \n",
      " 35  state_MA                3333 non-null   uint8  \n",
      " 36  state_MD                3333 non-null   uint8  \n",
      " 37  state_ME                3333 non-null   uint8  \n",
      " 38  state_MI                3333 non-null   uint8  \n",
      " 39  state_MN                3333 non-null   uint8  \n",
      " 40  state_MO                3333 non-null   uint8  \n",
      " 41  state_MS                3333 non-null   uint8  \n",
      " 42  state_MT                3333 non-null   uint8  \n",
      " 43  state_NC                3333 non-null   uint8  \n",
      " 44  state_ND                3333 non-null   uint8  \n",
      " 45  state_NE                3333 non-null   uint8  \n",
      " 46  state_NH                3333 non-null   uint8  \n",
      " 47  state_NJ                3333 non-null   uint8  \n",
      " 48  state_NM                3333 non-null   uint8  \n",
      " 49  state_NV                3333 non-null   uint8  \n",
      " 50  state_NY                3333 non-null   uint8  \n",
      " 51  state_OH                3333 non-null   uint8  \n",
      " 52  state_OK                3333 non-null   uint8  \n",
      " 53  state_OR                3333 non-null   uint8  \n",
      " 54  state_PA                3333 non-null   uint8  \n",
      " 55  state_RI                3333 non-null   uint8  \n",
      " 56  state_SC                3333 non-null   uint8  \n",
      " 57  state_SD                3333 non-null   uint8  \n",
      " 58  state_TN                3333 non-null   uint8  \n",
      " 59  state_TX                3333 non-null   uint8  \n",
      " 60  state_UT                3333 non-null   uint8  \n",
      " 61  state_VA                3333 non-null   uint8  \n",
      " 62  state_VT                3333 non-null   uint8  \n",
      " 63  state_WA                3333 non-null   uint8  \n",
      " 64  state_WI                3333 non-null   uint8  \n",
      " 65  state_WV                3333 non-null   uint8  \n",
      " 66  state_WY                3333 non-null   uint8  \n",
      " 67  international plan_yes  3333 non-null   uint8  \n",
      " 68  voice mail plan_yes     3333 non-null   uint8  \n",
      "dtypes: bool(1), float64(8), int64(8), uint8(52)\n",
      "memory usage: 589.3 KB\n"
     ]
    }
   ],
   "source": [
    "# Check shape and structure of cleaned data\n",
    "df_encoded.info()\n"
   ]
  },
  {
   "cell_type": "markdown",
   "metadata": {},
   "source": [
    "##  EDA and Statistics\n",
    "**We want to uncover patterns, trends, and relationships to better understand customer churn. Some guiding questions:**\n",
    "\n",
    "- 1.Which features are most associated with churn?\n",
    "\n",
    "- 2.Do customers with international plans churn more?\n",
    "\n",
    "- 3.Does the number of customer service calls relate to churn?\n",
    "\n",
    "- 4.How does usage (minutes, charges) differ between churners and non-churners?\n",
    "\n",
    "- 5.Are there any standout states with higher churn rates?"
   ]
  },
  {
   "cell_type": "markdown",
   "metadata": {},
   "source": [
    "### Importing Libraries"
   ]
  },
  {
   "cell_type": "code",
   "execution_count": 17,
   "metadata": {},
   "outputs": [],
   "source": [
    "# 5.0 Import necessary libraries for EDA\n",
    "import pandas as pd\n",
    "import matplotlib.pyplot as plt\n",
    "import seaborn as sns\n",
    "\n",
    "# Set default theme for seaborn\n",
    "sns.set(style=\"whitegrid\")\n"
   ]
  },
  {
   "cell_type": "markdown",
   "metadata": {},
   "source": [
    "### 5.1 Churn Distribution\n",
    "\n",
    "Before analyzing features in relation to churn, let's understand the overall distribution of churned vs non-churned customers. This tells us whether we’re dealing with class imbalance.\n"
   ]
  },
  {
   "cell_type": "code",
   "execution_count": 18,
   "metadata": {},
   "outputs": [
    {
     "name": "stdout",
     "output_type": "stream",
     "text": [
      "📊 Churn Rate: 14.49%\n"
     ]
    },
    {
     "data": {
      "image/png": "[encoded data removed]",
      "text/plain": [
       "<Figure size 432x288 with 1 Axes>"
      ]
     },
     "metadata": {},
     "output_type": "display_data"
    }
   ],
   "source": [
    "# Plot churn distribution\n",
    "plt.figure(figsize=(6, 4))\n",
    "sns.countplot(x='churn', data=df, palette='Set2')\n",
    "plt.title(\"Churn Distribution\")\n",
    "plt.xlabel(\"Churn\")\n",
    "plt.ylabel(\"Number of Customers\")\n",
    "plt.xticks([0, 1], ['No', 'Yes'])\n",
    "\n",
    "# Show churn rate\n",
    "churn_rate = df['churn'].mean()\n",
    "print(f\"📊 Churn Rate: {churn_rate:.2%}\")\n",
    "plt.show()\n"
   ]
  },
  {
   "cell_type": "markdown",
   "metadata": {},
   "source": [
    "### 5.1 Churn Distribution – Interpretation\n",
    "\n",
    "The bar chart above visualizes the distribution of customers who have churned (left the service) versus those who have remained subscribed.\n",
    "\n",
    "#### Key Observations\n",
    "\n",
    "- **Most customers did not churn**  \n",
    "  The chart shows that a large majority of the customers fall under the \"No\" category, meaning they did not leave the company. This is represented by the much taller bar on the left.\n",
    "\n",
    "- **Only a small portion churned**  \n",
    "  A significantly smaller number of customers fall under the \"Yes\" category. These are the customers who have churned and are represented by the shorter bar on the right.\n",
    "\n",
    "#### Why This Matters\n",
    "\n",
    "- **Class Imbalance**  \n",
    "  This imbalance between churned and non-churned customers is critical to highlight. When training machine learning models, class imbalance can lead to a situation where the model favors the majority class (\"No churn\") and performs poorly at detecting churned customers. This will need to be addressed later in the modeling phase through techniques such as resampling or adjusting class weights.\n",
    "\n",
    "- **Business Implications**  \n",
    "  While the proportion of churned customers appears relatively small, each lost customer can represent a financial loss and potential dissatisfaction with the service. Understanding the causes of churn is essential to improving customer satisfaction and long-term retention.\n",
    "\n",
    "#### Next Steps\n",
    "\n",
    "In the next steps, I will explore how different variables (such as international plan, customer service calls, and usage behavior) relate to churn. This will help build a foundation for predictive modeling and inform actionable business strategies to reduce churn.\n"
   ]
  },
  {
   "cell_type": "markdown",
   "metadata": {},
   "source": [
    "### 5.2 Churn Rate by International Plan\n",
    "\n",
    "**Goal:**  \n",
    "Explore whether customers who have subscribed to the **International Plan** are more likely to churn than those who haven’t.\n",
    "\n",
    "To analyze this, I will:\n",
    "\n",
    "- Group the dataset by `international plan` and `churn` status.\n",
    "- Count the number of customers in each group.\n",
    "- Normalize the values to show proportions.\n",
    "- Visualize the results in a stacked bar chart to compare churn behavior for customers **with** and **without** an international plan.\n"
   ]
  },
  {
   "cell_type": "code",
   "execution_count": 19,
   "metadata": {},
   "outputs": [
    {
     "data": {
      "image/png": "[encoded data removed]",
      "text/plain": [
       "<Figure size 504x360 with 1 Axes>"
      ]
     },
     "metadata": {},
     "output_type": "display_data"
    }
   ],
   "source": [
    "# 5.2 Churn Rate by International Plan\n",
    "int_plan_churn = df.groupby(['international plan', 'churn']).size().unstack()\n",
    "\n",
    "# Normalize by row to get percentages\n",
    "int_plan_churn_percent = int_plan_churn.div(int_plan_churn.sum(axis=1), axis=0)\n",
    "\n",
    "# Plot\n",
    "int_plan_churn_percent.plot(kind='bar', stacked=True, figsize=(7,5), color=['#69b3a2', '#e9967a'])\n",
    "plt.title(\"Churn Rate by International Plan\")\n",
    "plt.xlabel(\"International Plan\")\n",
    "plt.ylabel(\"Proportion of Customers\")\n",
    "plt.legend(title=\"Churn\")\n",
    "plt.tight_layout()\n",
    "plt.show()"
   ]
  },
  {
   "cell_type": "markdown",
   "metadata": {},
   "source": [
    "### 5.2 Churn Rate by International Plan - Interpretation\n",
    "\n",
    "This bar chart compares the proportion of customers who churned based on whether they were subscribed to the **International Plan**.\n",
    "\n",
    "**Key Insights:**\n",
    "\n",
    "- **Customers without an International Plan (left bar)**: The vast majority did **not churn**. A very small portion of this group ended their service.\n",
    "- **Customers with an International Plan (right bar)**: A **much higher proportion churned** compared to those without the plan.\n",
    "\n",
    "**Conclusion:**\n",
    "\n",
    "Having an International Plan appears to be **strongly associated with a higher likelihood of churn**. This could suggest that customers using international services are less satisfied or have higher expectations that aren't being met.\n",
    "\n",
    "This is an important signal for the business—it may be worth investigating the International Plan’s pricing, service quality, or customer support experience.\n"
   ]
  },
  {
   "cell_type": "markdown",
   "metadata": {},
   "source": [
    "## 5.3 Customer Service Calls and Churn\n",
    "\n",
    "**Objective:** Investigate whether the number of calls a customer makes to customer service is related to their likelihood of churning.\n",
    "\n",
    "To do this, we will:\n",
    "\n",
    "- Group customers based on the number of customer service calls.\n",
    "- Calculate the churn rate for each group.\n",
    "- Visualize the relationship between customer service interactions and churn behavior.\n",
    "\n",
    "This will help us determine if frequent customer service interactions are a warning sign of dissatisfaction leading to churn.\n"
   ]
  },
  {
   "cell_type": "code",
   "execution_count": 20,
   "metadata": {},
   "outputs": [
    {
     "data": {
      "image/png": "[encoded data removed]",
      "text/plain": [
       "<Figure size 576x360 with 1 Axes>"
      ]
     },
     "metadata": {},
     "output_type": "display_data"
    }
   ],
   "source": [
    "# Group data by number of customer service calls and churn\n",
    "cs_calls_churn = df.groupby(['customer service calls', 'churn']).size().unstack()\n",
    "\n",
    "# Normalize to get proportions\n",
    "cs_calls_churn_percent = cs_calls_churn.div(cs_calls_churn.sum(axis=1), axis=0)\n",
    "\n",
    "# Plot\n",
    "cs_calls_churn_percent.plot(kind='bar', stacked=True, figsize=(8,5), color=['#69b3a2', '#e9967a'])\n",
    "plt.title(\"Churn Rate by Customer Service Calls\")\n",
    "plt.xlabel(\"Customer Service Calls\")\n",
    "plt.ylabel(\"Proportion of Customers\")\n",
    "plt.legend(title=\"Churn\")\n",
    "plt.tight_layout()\n",
    "plt.show()\n"
   ]
  },
  {
   "cell_type": "markdown",
   "metadata": {},
   "source": [
    "## 5.3 Interpretation: Churn Rate by Customer Service Calls\n",
    "\n",
    "This stacked bar chart shows how the likelihood of a customer churning varies depending on the number of times they contacted customer service.\n",
    "\n",
    "### Key Observations\n",
    "\n",
    "- **Low Churn with Few Calls:**  \n",
    "  Customers who made **0 to 3 customer service calls** have a **very low churn rate**. Most of them are retained (green portion), indicating satisfaction or fewer issues.\n",
    "\n",
    "- **Churn Rises After 3 Calls:**  \n",
    "  Starting from **4 calls and above**, the churn rate begins to increase significantly.  \n",
    "  By **5 or more calls**, more customers are churning (orange portion becomes dominant).\n",
    "\n",
    "- **High Churn Beyond 5 Calls:**  \n",
    "  At **6 or more calls**, the churn rate is very high — in some cases, **more than half** of the customers who contacted support this many times ended up churning.\n",
    "\n",
    "### Interpretation\n",
    "\n",
    "This trend strongly suggests a **relationship between customer dissatisfaction and churn**:\n",
    "- Frequent contact with customer service likely signals unresolved problems or frustration.\n",
    "- When issues aren't resolved promptly or effectively, customers are more likely to leave.\n",
    "\n",
    "### Implication for the Business\n",
    "\n",
    "- The company should **analyze customer service interactions closely**, especially for those who call multiple times.\n",
    "- Taking **proactive steps** to resolve issues quickly for customers who call **more than 3 times** might significantly reduce churn.\n"
   ]
  },
  {
   "cell_type": "markdown",
   "metadata": {},
   "source": [
    "## 5.4 Churn vs Total Day Minutes\n",
    "\n",
    "### Objective:\n",
    "Determine if higher usage during the day (in terms of total minutes) has any relation to customer churn.\n"
   ]
  },
  {
   "cell_type": "code",
   "execution_count": 21,
   "metadata": {},
   "outputs": [
    {
     "data": {
      "image/png": "[encoded data removed]",
      "text/plain": [
       "<Figure size 576x360 with 1 Axes>"
      ]
     },
     "metadata": {},
     "output_type": "display_data"
    }
   ],
   "source": [
    "# Set style\n",
    "sns.set(style=\"whitegrid\")\n",
    "\n",
    "# Plot\n",
    "plt.figure(figsize=(8, 5))\n",
    "sns.boxplot(x='churn', y='total day minutes', data=df, palette=['#69b3a2', '#e9967a'])\n",
    "plt.title('Churn vs. Total Day Minutes')\n",
    "plt.xlabel('Churn')\n",
    "plt.ylabel('Total Day Minutes')\n",
    "plt.tight_layout()\n",
    "plt.show()"
   ]
  },
  {
   "cell_type": "markdown",
   "metadata": {},
   "source": [
    "## Interpretation: Churn vs Total Day Minutes\n",
    "\n",
    "This boxplot compares the distribution of total day minutes used by customers who churned versus those who did not.\n",
    "\n",
    "###  Key Observations\n",
    "\n",
    "- **Higher Usage Among Churned Customers**:\n",
    "  - Customers who churned tend to have higher total day minutes compared to those who stayed.\n",
    "  - The median (middle line in the box) for churned customers is visibly higher.\n",
    "\n",
    "- **Wider Spread in Churned Group**:\n",
    "  - The churned group shows more variability, with some customers using significantly more minutes than the average.\n",
    "\n",
    "- **Potential Outliers**:\n",
    "  - There are a few extreme outliers among the churned group, indicating very high usage for a small subset of customers.\n",
    "\n",
    "###  Interpretation\n",
    "\n",
    "This pattern suggests a correlation between **higher daytime usage** and **likelihood of churn**:\n",
    "\n",
    "- Heavy users may have **higher expectations** or are more likely to experience **network or billing issues**, leading to dissatisfaction.\n",
    "- Alternatively, the pricing model might not favor high-usage customers, prompting them to switch providers.\n",
    "\n",
    "###  Implication for the Business\n",
    "\n",
    "- Analyze the experience of high-usage customers — Are they facing service degradation? Are they unhappy with pricing?\n",
    "- Consider **loyalty programs or better plans** for heavy users to prevent them from churning.\n",
    "- Use this insight to **segment customers by usage** and apply **targeted retention strategies**.\n"
   ]
  },
  {
   "cell_type": "markdown",
   "metadata": {},
   "source": [
    "## 5.5 Churn vs Total Night Minutes\n",
    "\n",
    "### Objective:\n",
    "Evaluate whether there’s any noticeable relationship between night-time call minutes and customer churn.\n",
    "\n",
    "To assess this, we will:\n",
    "\n",
    "- Visualize the distribution of total night minutes for churned vs non-churned customers using a boxplot.\n",
    "- Examine whether customers who churned tend to have higher or lower night-time call durations.\n",
    "- Analyze any observable patterns that could guide business strategy for retention.\n"
   ]
  },
  {
   "cell_type": "code",
   "execution_count": 22,
   "metadata": {},
   "outputs": [
    {
     "data": {
      "image/png": "[encoded data removed]",
      "text/plain": [
       "<Figure size 576x360 with 1 Axes>"
      ]
     },
     "metadata": {},
     "output_type": "display_data"
    }
   ],
   "source": [
    "# Set style\n",
    "sns.set(style=\"whitegrid\")\n",
    "\n",
    "# Plot\n",
    "plt.figure(figsize=(8, 5))\n",
    "sns.boxplot(x='churn', y='total night minutes', data=df, palette=['#69b3a2', '#e9967a'])\n",
    "plt.title('Churn vs. Total Night Minutes')\n",
    "plt.xlabel('Churn')\n",
    "plt.ylabel('Total Night Minutes')\n",
    "plt.tight_layout()\n",
    "plt.show()\n"
   ]
  },
  {
   "cell_type": "markdown",
   "metadata": {},
   "source": [
    "##  Churn vs. Total Night Minutes (Boxplot Interpretation)\n",
    "\n",
    "This boxplot compares the distribution of **Total Night Minutes** between customers who **churned** (`True`) and those who **did not churn** (`False`).\n",
    "\n",
    "### Boxplot Summary\n",
    "\n",
    "| Metric                  | Churn = False     | Churn = True      |\n",
    "|-------------------------|-------------------|--------------------|\n",
    "| **Median**              | ~200 minutes      | ~210 minutes       |\n",
    "| **IQR (Spread)**        | Wider             | Narrower           |\n",
    "| **Range**               | ~30 to ~340+ mins | ~45 to ~340+ mins  |\n",
    "| **Outliers**            | Many high outliers| Fewer, but present |\n",
    "| **Symmetry**            | Slight skew       | Fairly symmetric   |\n",
    "\n",
    "###  Key Insights\n",
    "\n",
    "-  **Higher Median for Churners**: Customers who churned had a slightly **higher median night usage**, suggesting they used night minutes more than non-churners.\n",
    "-  **Similar Overall Ranges**: Both groups had similar minimum and maximum values, but the internal spread of values differed.\n",
    "-  **Outliers**:\n",
    "  - Non-churners had **more extreme values** above 300 mins.\n",
    "  - Churners had **fewer but notable outliers**.\n",
    "\n",
    "###  Interpretation\n",
    "\n",
    "- High night usage **alone does not strongly predict churn**, but might contribute to it when combined with other factors.\n",
    "- The difference in spread indicates **different behavior patterns** between churners and non-churners.\n",
    "\n",
    "###  Business Implication\n",
    "\n",
    "Understanding night-time call behavior can support:\n",
    "- Creating **targeted packages** for high-usage night callers.\n",
    "- **Retaining potential churners** with personalized offers or better night-time service experience.\n"
   ]
  },
  {
   "cell_type": "markdown",
   "metadata": {},
   "source": [
    "## 5.6 Churn vs Total Evening Minutes\n",
    "\n",
    "### Objective\n",
    "Investigate whether there is a noticeable difference in evening call usage (in minutes) between customers who churn and those who remain subscribed."
   ]
  },
  {
   "cell_type": "code",
   "execution_count": 27,
   "metadata": {},
   "outputs": [
    {
     "data": {
      "image/png": "[encoded data removed]",
      "text/plain": [
       "<Figure size 576x360 with 1 Axes>"
      ]
     },
     "metadata": {},
     "output_type": "display_data"
    }
   ],
   "source": [
    "# Set style\n",
    "sns.set(style=\"whitegrid\")\n",
    "\n",
    "# Plot\n",
    "plt.figure(figsize=(8, 5))\n",
    "sns.boxplot(x='churn', y='total eve minutes', data=df, palette=['#69b3a2', '#e9967a'])\n",
    "plt.title('Churn vs. Total Evening Minutes')\n",
    "plt.xlabel('Churn')\n",
    "plt.ylabel('Total Evening Minutes')\n",
    "plt.tight_layout()\n",
    "plt.show()\n"
   ]
  },
  {
   "cell_type": "markdown",
   "metadata": {},
   "source": [
    "### Interpretation: Churn vs Total Evening Minutes\n",
    "\n",
    "This boxplot compares the distribution of total evening minutes for churned versus non-churned customers.\n",
    "\n",
    "#### Key Observations\n",
    "\n",
    "**Higher Usage Among Churners:**\n",
    "- The median value for customers who churned is slightly higher than those who didn’t.\n",
    "- This indicates that customers who churn may use evening minutes more.\n",
    "\n",
    "**Spread and Outliers:**\n",
    "- The churned group has a more compact IQR (interquartile range), suggesting slightly less variability within the middle 50%.\n",
    "- Non-churned customers have a wider range, with a few high outliers beyond 300 minutes.\n",
    "\n",
    "#### Interpretation\n",
    "\n",
    "Evening usage alone doesn’t appear to be a strong indicator of churn but may still be a contributing factor.\n",
    "- Higher usage could reflect customer reliance on service during evening hours, potentially increasing sensitivity to service quality or cost.\n",
    "\n",
    "#### Business Implications\n",
    "\n",
    "- Consider evaluating if evening heavy users are experiencing issues such as dropped calls or billing confusion.\n",
    "- Offer incentives or tailored plans for high-evening users to improve satisfaction and reduce churn.\n"
   ]
  },
  {
   "cell_type": "markdown",
   "metadata": {},
   "source": [
    "## 5.7 Churn vs Total Night Minutes\n",
    "\n",
    "### Objective  \n",
    "Investigate whether there is a significant difference in night call usage (in minutes) between customers who churned and those who remained subscribed.\n"
   ]
  },
  {
   "cell_type": "code",
   "execution_count": 28,
   "metadata": {},
   "outputs": [
    {
     "data": {
      "image/png": "[encoded data removed]",
      "text/plain": [
       "<Figure size 576x360 with 1 Axes>"
      ]
     },
     "metadata": {},
     "output_type": "display_data"
    }
   ],
   "source": [
    "# Set style\n",
    "sns.set(style=\"whitegrid\")\n",
    "\n",
    "# Plot\n",
    "plt.figure(figsize=(8, 5))\n",
    "sns.boxplot(x='churn', y='total night minutes', data=df, palette=['#6a9fb5', '#f4a261'])\n",
    "plt.title('Churn vs. Total Night Minutes')\n",
    "plt.xlabel('Churn')\n",
    "plt.ylabel('Total Night Minutes')\n",
    "plt.tight_layout()\n",
    "plt.show()\n"
   ]
  },
  {
   "cell_type": "markdown",
   "metadata": {},
   "source": [
    "### Interpretation: Churn vs Total Night Minutes\n",
    "\n",
    "This boxplot compares the distribution of total night minutes for churned and non-churned customers.\n",
    "\n",
    "####  Key Observations\n",
    "\n",
    "- **Similar Medians**: The median night minutes used is nearly identical for both groups, indicating that night-time usage does not strongly differentiate churn behavior.\n",
    "- **Slightly Wider Spread for Non-Churners**: Non-churned customers show slightly more variation, but the overall distribution is quite similar across groups.\n",
    "- **Fewer Outliers**: There are fewer extreme outliers, suggesting night usage is more consistent across users.\n",
    "\n",
    "####  Interpretation\n",
    "\n",
    "Night call usage does not appear to have a strong influence on churn. Both churned and non-churned customers tend to use similar amounts of night minutes.\n",
    "\n",
    "####  Business Implications\n",
    "\n",
    "- Resources may be better focused on other time periods (e.g., day or evening) where usage differences are more pronounced.\n",
    "- However, it's still important to ensure quality night-time service, especially for users who rely on off-peak hours.\n"
   ]
  },
  {
   "cell_type": "markdown",
   "metadata": {},
   "source": [
    "## 5.8 Churn vs Total International Minutes\n",
    "\n",
    "###  Objective\n",
    "\n",
    "Investigate whether customers who churned tend to spend more time on international calls compared to those who remain subscribed.\n"
   ]
  },
  {
   "cell_type": "code",
   "execution_count": 29,
   "metadata": {},
   "outputs": [
    {
     "data": {
      "image/png": "[encoded data removed]",
      "text/plain": [
       "<Figure size 576x360 with 1 Axes>"
      ]
     },
     "metadata": {},
     "output_type": "display_data"
    }
   ],
   "source": [
    "# Set style\n",
    "sns.set(style=\"whitegrid\")\n",
    "\n",
    "# Plot\n",
    "plt.figure(figsize=(8, 5))\n",
    "sns.boxplot(x='churn', y='total intl minutes', data=df, palette=['#90be6d', '#f94144'])\n",
    "plt.title('Churn vs. Total International Minutes')\n",
    "plt.xlabel('Churn')\n",
    "plt.ylabel('Total International Minutes')\n",
    "plt.tight_layout()\n",
    "plt.show()\n"
   ]
  },
  {
   "cell_type": "markdown",
   "metadata": {},
   "source": [
    "## 5.8 Churn vs Total International Minutes\n",
    "\n",
    "###  Interpretation: Churn vs Total International Minutes\n",
    "\n",
    "This boxplot compares the distribution of international call minutes for churned versus non-churned customers.\n",
    "\n",
    "---\n",
    "\n",
    "###  Key Observations\n",
    "\n",
    "- **Higher International Usage Among Churners**  \n",
    "  The median international minutes for churned customers is visibly higher than that of non-churned customers.  \n",
    "  This suggests that customers who make more international calls may be more likely to churn.\n",
    "\n",
    "- **Outliers and Distribution**  \n",
    "  Both churned and non-churned groups show a relatively tight interquartile range (IQR), but churned customers have more visible outliers above 20 minutes, which may reflect a smaller group of heavy users.\n",
    "\n",
    "---\n",
    "\n",
    "### Interpretation\n",
    "\n",
    "Higher international usage may contribute to churn, possibly due to:\n",
    "\n",
    "- Higher international call charges leading to customer dissatisfaction  \n",
    "- Expectation mismatch in international call quality or costs  \n",
    "- Lack of competitive international calling plans\n",
    "\n",
    "---\n",
    "\n",
    "### Business Implications\n",
    "\n",
    "- Consider introducing or promoting international calling bundles for heavy users.\n",
    "- Identify and proactively engage international callers with loyalty programs or feedback surveys.\n",
    "- Monitor complaints or issues related to international calls as early churn signals.\n"
   ]
  },
  {
   "cell_type": "markdown",
   "metadata": {},
   "source": [
    "## 5.9 Churn vs Customer Service Calls (Categorical)\n",
    "\n",
    "###  Objective\n",
    "\n",
    "Investigate the relationship between the number of customer service calls and churn, with a focus on understanding if increased customer service interactions correlate with higher churn rates.\n"
   ]
  },
  {
   "cell_type": "code",
   "execution_count": 30,
   "metadata": {},
   "outputs": [
    {
     "data": {
      "image/png": "[encoded data removed]",
      "text/plain": [
       "<Figure size 576x360 with 1 Axes>"
      ]
     },
     "metadata": {},
     "output_type": "display_data"
    }
   ],
   "source": [
    "# Set style\n",
    "sns.set(style=\"whitegrid\")\n",
    "\n",
    "# Plot\n",
    "plt.figure(figsize=(8, 5))\n",
    "sns.countplot(x='customer service calls', hue='churn', data=df, palette='Set2')\n",
    "plt.title('Churn by Customer Service Calls')\n",
    "plt.xlabel('Customer Service Calls')\n",
    "plt.ylabel('Number of Customers')\n",
    "plt.tight_layout()\n",
    "plt.show()"
   ]
  },
  {
   "cell_type": "markdown",
   "metadata": {},
   "source": [
    "### Interpretation: Churn vs Customer Service Calls (Categorical)\n",
    "\n",
    "This count plot visualizes the number of customer service calls made by customers and how it relates to churn.\n",
    "\n",
    "####  Key Observations\n",
    "\n",
    "- **Higher Churn with More Calls**:  \n",
    "  Customers who made 4 or more customer service calls are significantly more likely to churn.\n",
    "\n",
    "- **Majority Didn't Call Much**:  \n",
    "  Most customers, both churned and non-churned, made fewer than 3 calls.\n",
    "\n",
    "- **Churn Rate Spikes After 3 Calls**:  \n",
    "  The churn rate sharply increases for customers who contacted customer service frequently.\n",
    "\n",
    "####  Interpretation\n",
    "\n",
    "Frequent interactions with customer service may indicate dissatisfaction or unresolved issues. This group is at higher risk of leaving.\n",
    "\n",
    "####  Business Implications\n",
    "\n",
    "- Identify and flag customers who call 3+ times as **churn risks**.\n",
    "- Implement a **priority resolution system** for repeat callers to enhance satisfaction.\n",
    "- Regularly audit **customer service effectiveness** to reduce churn triggers.\n"
   ]
  },
  {
   "cell_type": "markdown",
   "metadata": {},
   "source": [
    "## 5.10 Churn vs International Plan\n",
    "\n",
    "###  Objective\n",
    "\n",
    "Examine whether having an international calling plan affects the likelihood of churn. This analysis seeks to determine if customers with international plans are more likely to leave than those without.\n"
   ]
  },
  {
   "cell_type": "code",
   "execution_count": 31,
   "metadata": {},
   "outputs": [
    {
     "data": {
      "image/png": "[encoded data removed]",
      "text/plain": [
       "<Figure size 576x360 with 1 Axes>"
      ]
     },
     "metadata": {},
     "output_type": "display_data"
    }
   ],
   "source": [
    "# Set style\n",
    "sns.set(style=\"whitegrid\")\n",
    "\n",
    "# Plot\n",
    "plt.figure(figsize=(8, 5))\n",
    "sns.countplot(x='international plan', hue='churn', data=df, palette='pastel')\n",
    "plt.title('Churn vs. International Plan')\n",
    "plt.xlabel('International Plan')\n",
    "plt.ylabel('Count')\n",
    "plt.legend(title='Churn')\n",
    "plt.tight_layout()\n",
    "plt.show()"
   ]
  },
  {
   "cell_type": "code",
   "execution_count": null,
   "metadata": {},
   "outputs": [],
   "source": []
  }
 ],
 "metadata": {
  "kernelspec": {
   "display_name": "Python (learn-env)",
   "language": "python",
   "name": "learn-env"
  },
  "language_info": {
   "codemirror_mode": {
    "name": "ipython",
    "version": 3
   },
   "file_extension": ".py",
   "mimetype": "text/x-python",
   "name": "python",
   "nbconvert_exporter": "python",
   "pygments_lexer": "ipython3",
   "version": "3.8.5"
  }
 },
 "nbformat": 4,
 "nbformat_minor": 4
}
