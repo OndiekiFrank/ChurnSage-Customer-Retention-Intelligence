{
 "cells": [
  {
   "cell_type": "markdown",
   "metadata": {},
   "source": [
    "# ChurnSage: Customer Retention Intelligence\n",
    "\n",
    "Customer churn is one of the biggest challenges faced by businesses today. Losing customers directly impacts revenue and long-term growth. This project leverages data-driven insights and machine learning to predict and prevent customer churn effectively.\n",
    "\n",
    "With ChurnSage, we aim to uncover patterns that signal churn and empower businesses to take strategic actions for improved customer retention.\n"
   ]
  },
  {
   "cell_type": "markdown",
   "metadata": {},
   "source": [
    "## 2. Business Understanding\n",
    "\n",
    "Customer churn — the process where customers discontinue using a company's product or service — presents a significant challenge for businesses, especially in competitive and subscription-based industries. It not only impacts revenue, but also increases the cost of customer acquisition and reduces long-term profitability.\n",
    "\n",
    "In this project, I aim to build a data-driven framework that enables early identification of customers likely to churn. My goal is to empower decision-makers with predictive insights that inform timely interventions, customer retention strategies, and improved service personalization.\n",
    "\n",
    "### Problem Statement\n",
    "Many businesses lack the analytical infrastructure to anticipate churn before it happens. Without accurate forecasting, retention efforts are reactive rather than proactive. This leads to avoidable customer losses and missed opportunities for engagement.\n",
    "\n",
    "### Project Objectives\n",
    "Through this analysis and modeling process, I aim to:\n",
    "\n",
    "- Identify key patterns and factors that influence customer churn.\n",
    "- Develop a predictive machine learning model capable of flagging high-risk customers.\n",
    "- Translate model outcomes into actionable recommendations for business teams.\n",
    "- Demonstrate end-to-end capability in solving a real-world business problem using data science.\n",
    "\n",
    "### Key Business Questions\n",
    "This project aims to answer the following critical questions:\n",
    "\n",
    "- What behavioral, demographic, or transactional factors contribute to customer churn?\n",
    "- Can I develop a reliable machine learning model to predict churn before it happens?\n",
    "- What strategies or business actions can be informed by these predictive insights?\n",
    "\n",
    "By the end of this project, I intend to showcase a complete workflow — from problem understanding to deployment-ready solutions — while aligning technical outputs with strategic business goals.\n"
   ]
  },
  {
   "cell_type": "markdown",
   "metadata": {},
   "source": [
    "## 3. Data Understanding\n",
    "\n",
    "In this section, I begin by loading the dataset and conducting an initial exploration to understand its structure, data types, and general characteristics.\n",
    "\n",
    "This step is critical for identifying potential issues such as missing values, data imbalances, or irregularities that may affect model performance later.\n",
    "\n",
    "The dataset used in this project is a publicly available churn dataset from [BigML](https://bigml.com), which simulates customer data for a telecom company.\n",
    "\n",
    "The dataset is stored in the `data/` folder and consists of behavioral and demographic attributes such as `account length`, `voice mail plan`, `international plan`, `customer service calls`, and whether or not the customer has churned.\n"
   ]
  },
  {
   "cell_type": "markdown",
   "metadata": {},
   "source": [
    "### Load and Preview the Data"
   ]
  },
  {
   "cell_type": "code",
   "execution_count": 2,
   "metadata": {},
   "outputs": [
    {
     "data": {
      "text/html": [
       "<div>\n",
       "<style scoped>\n",
       "    .dataframe tbody tr th:only-of-type {\n",
       "        vertical-align: middle;\n",
       "    }\n",
       "\n",
       "    .dataframe tbody tr th {\n",
       "        vertical-align: top;\n",
       "    }\n",
       "\n",
       "    .dataframe thead th {\n",
       "        text-align: right;\n",
       "    }\n",
       "</style>\n",
       "<table border=\"1\" class=\"dataframe\">\n",
       "  <thead>\n",
       "    <tr style=\"text-align: right;\">\n",
       "      <th></th>\n",
       "      <th>state</th>\n",
       "      <th>account length</th>\n",
       "      <th>area code</th>\n",
       "      <th>phone number</th>\n",
       "      <th>international plan</th>\n",
       "      <th>voice mail plan</th>\n",
       "      <th>number vmail messages</th>\n",
       "      <th>total day minutes</th>\n",
       "      <th>total day calls</th>\n",
       "      <th>total day charge</th>\n",
       "      <th>...</th>\n",
       "      <th>total eve calls</th>\n",
       "      <th>total eve charge</th>\n",
       "      <th>total night minutes</th>\n",
       "      <th>total night calls</th>\n",
       "      <th>total night charge</th>\n",
       "      <th>total intl minutes</th>\n",
       "      <th>total intl calls</th>\n",
       "      <th>total intl charge</th>\n",
       "      <th>customer service calls</th>\n",
       "      <th>churn</th>\n",
       "    </tr>\n",
       "  </thead>\n",
       "  <tbody>\n",
       "    <tr>\n",
       "      <th>0</th>\n",
       "      <td>KS</td>\n",
       "      <td>128</td>\n",
       "      <td>415</td>\n",
       "      <td>382-4657</td>\n",
       "      <td>no</td>\n",
       "      <td>yes</td>\n",
       "      <td>25</td>\n",
       "      <td>265.1</td>\n",
       "      <td>110</td>\n",
       "      <td>45.07</td>\n",
       "      <td>...</td>\n",
       "      <td>99</td>\n",
       "      <td>16.78</td>\n",
       "      <td>244.7</td>\n",
       "      <td>91</td>\n",
       "      <td>11.01</td>\n",
       "      <td>10.0</td>\n",
       "      <td>3</td>\n",
       "      <td>2.70</td>\n",
       "      <td>1</td>\n",
       "      <td>False</td>\n",
       "    </tr>\n",
       "    <tr>\n",
       "      <th>1</th>\n",
       "      <td>OH</td>\n",
       "      <td>107</td>\n",
       "      <td>415</td>\n",
       "      <td>371-7191</td>\n",
       "      <td>no</td>\n",
       "      <td>yes</td>\n",
       "      <td>26</td>\n",
       "      <td>161.6</td>\n",
       "      <td>123</td>\n",
       "      <td>27.47</td>\n",
       "      <td>...</td>\n",
       "      <td>103</td>\n",
       "      <td>16.62</td>\n",
       "      <td>254.4</td>\n",
       "      <td>103</td>\n",
       "      <td>11.45</td>\n",
       "      <td>13.7</td>\n",
       "      <td>3</td>\n",
       "      <td>3.70</td>\n",
       "      <td>1</td>\n",
       "      <td>False</td>\n",
       "    </tr>\n",
       "    <tr>\n",
       "      <th>2</th>\n",
       "      <td>NJ</td>\n",
       "      <td>137</td>\n",
       "      <td>415</td>\n",
       "      <td>358-1921</td>\n",
       "      <td>no</td>\n",
       "      <td>no</td>\n",
       "      <td>0</td>\n",
       "      <td>243.4</td>\n",
       "      <td>114</td>\n",
       "      <td>41.38</td>\n",
       "      <td>...</td>\n",
       "      <td>110</td>\n",
       "      <td>10.30</td>\n",
       "      <td>162.6</td>\n",
       "      <td>104</td>\n",
       "      <td>7.32</td>\n",
       "      <td>12.2</td>\n",
       "      <td>5</td>\n",
       "      <td>3.29</td>\n",
       "      <td>0</td>\n",
       "      <td>False</td>\n",
       "    </tr>\n",
       "    <tr>\n",
       "      <th>3</th>\n",
       "      <td>OH</td>\n",
       "      <td>84</td>\n",
       "      <td>408</td>\n",
       "      <td>375-9999</td>\n",
       "      <td>yes</td>\n",
       "      <td>no</td>\n",
       "      <td>0</td>\n",
       "      <td>299.4</td>\n",
       "      <td>71</td>\n",
       "      <td>50.90</td>\n",
       "      <td>...</td>\n",
       "      <td>88</td>\n",
       "      <td>5.26</td>\n",
       "      <td>196.9</td>\n",
       "      <td>89</td>\n",
       "      <td>8.86</td>\n",
       "      <td>6.6</td>\n",
       "      <td>7</td>\n",
       "      <td>1.78</td>\n",
       "      <td>2</td>\n",
       "      <td>False</td>\n",
       "    </tr>\n",
       "    <tr>\n",
       "      <th>4</th>\n",
       "      <td>OK</td>\n",
       "      <td>75</td>\n",
       "      <td>415</td>\n",
       "      <td>330-6626</td>\n",
       "      <td>yes</td>\n",
       "      <td>no</td>\n",
       "      <td>0</td>\n",
       "      <td>166.7</td>\n",
       "      <td>113</td>\n",
       "      <td>28.34</td>\n",
       "      <td>...</td>\n",
       "      <td>122</td>\n",
       "      <td>12.61</td>\n",
       "      <td>186.9</td>\n",
       "      <td>121</td>\n",
       "      <td>8.41</td>\n",
       "      <td>10.1</td>\n",
       "      <td>3</td>\n",
       "      <td>2.73</td>\n",
       "      <td>3</td>\n",
       "      <td>False</td>\n",
       "    </tr>\n",
       "  </tbody>\n",
       "</table>\n",
       "<p>5 rows × 21 columns</p>\n",
       "</div>"
      ],
      "text/plain": [
       "  state  account length  area code phone number international plan  \\\n",
       "0    KS             128        415     382-4657                 no   \n",
       "1    OH             107        415     371-7191                 no   \n",
       "2    NJ             137        415     358-1921                 no   \n",
       "3    OH              84        408     375-9999                yes   \n",
       "4    OK              75        415     330-6626                yes   \n",
       "\n",
       "  voice mail plan  number vmail messages  total day minutes  total day calls  \\\n",
       "0             yes                     25              265.1              110   \n",
       "1             yes                     26              161.6              123   \n",
       "2              no                      0              243.4              114   \n",
       "3              no                      0              299.4               71   \n",
       "4              no                      0              166.7              113   \n",
       "\n",
       "   total day charge  ...  total eve calls  total eve charge  \\\n",
       "0             45.07  ...               99             16.78   \n",
       "1             27.47  ...              103             16.62   \n",
       "2             41.38  ...              110             10.30   \n",
       "3             50.90  ...               88              5.26   \n",
       "4             28.34  ...              122             12.61   \n",
       "\n",
       "   total night minutes  total night calls  total night charge  \\\n",
       "0                244.7                 91               11.01   \n",
       "1                254.4                103               11.45   \n",
       "2                162.6                104                7.32   \n",
       "3                196.9                 89                8.86   \n",
       "4                186.9                121                8.41   \n",
       "\n",
       "   total intl minutes  total intl calls  total intl charge  \\\n",
       "0                10.0                 3               2.70   \n",
       "1                13.7                 3               3.70   \n",
       "2                12.2                 5               3.29   \n",
       "3                 6.6                 7               1.78   \n",
       "4                10.1                 3               2.73   \n",
       "\n",
       "   customer service calls  churn  \n",
       "0                       1  False  \n",
       "1                       1  False  \n",
       "2                       0  False  \n",
       "3                       2  False  \n",
       "4                       3  False  \n",
       "\n",
       "[5 rows x 21 columns]"
      ]
     },
     "execution_count": 2,
     "metadata": {},
     "output_type": "execute_result"
    }
   ],
   "source": [
    "# Import essential libraries\n",
    "import pandas as pd\n",
    "\n",
    "# Load the dataset\n",
    "file_path = '../data/bigml_59c28831336c6604c800002a.csv'\n",
    "df = pd.read_csv(file_path)\n",
    "\n",
    "# Preview the first 5 rows\n",
    "df.head()\n"
   ]
  },
  {
   "cell_type": "code",
   "execution_count": 3,
   "metadata": {},
   "outputs": [
    {
     "data": {
      "text/plain": [
       "<bound method DataFrame.info of      state  account length  area code phone number international plan  \\\n",
       "0       KS             128        415     382-4657                 no   \n",
       "1       OH             107        415     371-7191                 no   \n",
       "2       NJ             137        415     358-1921                 no   \n",
       "3       OH              84        408     375-9999                yes   \n",
       "4       OK              75        415     330-6626                yes   \n",
       "...    ...             ...        ...          ...                ...   \n",
       "3328    AZ             192        415     414-4276                 no   \n",
       "3329    WV              68        415     370-3271                 no   \n",
       "3330    RI              28        510     328-8230                 no   \n",
       "3331    CT             184        510     364-6381                yes   \n",
       "3332    TN              74        415     400-4344                 no   \n",
       "\n",
       "     voice mail plan  number vmail messages  total day minutes  \\\n",
       "0                yes                     25              265.1   \n",
       "1                yes                     26              161.6   \n",
       "2                 no                      0              243.4   \n",
       "3                 no                      0              299.4   \n",
       "4                 no                      0              166.7   \n",
       "...              ...                    ...                ...   \n",
       "3328             yes                     36              156.2   \n",
       "3329              no                      0              231.1   \n",
       "3330              no                      0              180.8   \n",
       "3331              no                      0              213.8   \n",
       "3332             yes                     25              234.4   \n",
       "\n",
       "      total day calls  total day charge  ...  total eve calls  \\\n",
       "0                 110             45.07  ...               99   \n",
       "1                 123             27.47  ...              103   \n",
       "2                 114             41.38  ...              110   \n",
       "3                  71             50.90  ...               88   \n",
       "4                 113             28.34  ...              122   \n",
       "...               ...               ...  ...              ...   \n",
       "3328               77             26.55  ...              126   \n",
       "3329               57             39.29  ...               55   \n",
       "3330              109             30.74  ...               58   \n",
       "3331              105             36.35  ...               84   \n",
       "3332              113             39.85  ...               82   \n",
       "\n",
       "      total eve charge  total night minutes  total night calls  \\\n",
       "0                16.78                244.7                 91   \n",
       "1                16.62                254.4                103   \n",
       "2                10.30                162.6                104   \n",
       "3                 5.26                196.9                 89   \n",
       "4                12.61                186.9                121   \n",
       "...                ...                  ...                ...   \n",
       "3328             18.32                279.1                 83   \n",
       "3329             13.04                191.3                123   \n",
       "3330             24.55                191.9                 91   \n",
       "3331             13.57                139.2                137   \n",
       "3332             22.60                241.4                 77   \n",
       "\n",
       "      total night charge  total intl minutes  total intl calls  \\\n",
       "0                  11.01                10.0                 3   \n",
       "1                  11.45                13.7                 3   \n",
       "2                   7.32                12.2                 5   \n",
       "3                   8.86                 6.6                 7   \n",
       "4                   8.41                10.1                 3   \n",
       "...                  ...                 ...               ...   \n",
       "3328               12.56                 9.9                 6   \n",
       "3329                8.61                 9.6                 4   \n",
       "3330                8.64                14.1                 6   \n",
       "3331                6.26                 5.0                10   \n",
       "3332               10.86                13.7                 4   \n",
       "\n",
       "      total intl charge  customer service calls  churn  \n",
       "0                  2.70                       1  False  \n",
       "1                  3.70                       1  False  \n",
       "2                  3.29                       0  False  \n",
       "3                  1.78                       2  False  \n",
       "4                  2.73                       3  False  \n",
       "...                 ...                     ...    ...  \n",
       "3328               2.67                       2  False  \n",
       "3329               2.59                       3  False  \n",
       "3330               3.81                       2  False  \n",
       "3331               1.35                       2  False  \n",
       "3332               3.70                       0  False  \n",
       "\n",
       "[3333 rows x 21 columns]>"
      ]
     },
     "execution_count": 3,
     "metadata": {},
     "output_type": "execute_result"
    }
   ],
   "source": [
    "df.info"
   ]
  },
  {
   "cell_type": "markdown",
   "metadata": {},
   "source": [
    "## 4. Data Preparation\n",
    "\n",
    "Before conducting exploratory analysis and building predictive models, it is important to ensure the dataset is clean, consistent, and in a usable format.\n",
    "\n",
    "In this section, I aim to:\n",
    "\n",
    "- Check for and handle missing or inconsistent data.\n",
    "- Convert data types where necessary.\n",
    "- Encode categorical variables appropriately.\n",
    "- Perform any basic feature engineering or transformations required for modeling.\n"
   ]
  },
  {
   "cell_type": "markdown",
   "metadata": {},
   "source": [
    "## 4.1 Check for Missing Values"
   ]
  },
  {
   "cell_type": "code",
   "execution_count": 4,
   "metadata": {},
   "outputs": [
    {
     "name": "stdout",
     "output_type": "stream",
     "text": [
      "✅ No missing values found in the dataset.\n"
     ]
    }
   ],
   "source": [
    "# Check for missing values in each column\n",
    "missing = df.isnull().sum()\n",
    "missing = missing[missing > 0]\n",
    "\n",
    "if missing.empty:\n",
    "    print(\"✅ No missing values found in the dataset.\")\n",
    "else:\n",
    "    print(\"⚠️ Missing values detected:\\n\", missing)"
   ]
  },
  {
   "cell_type": "markdown",
   "metadata": {},
   "source": [
    "## 4.2 Check and Fix Data Types "
   ]
  },
  {
   "cell_type": "code",
   "execution_count": 5,
   "metadata": {
    "scrolled": true
   },
   "outputs": [
    {
     "data": {
      "text/plain": [
       "state                      object\n",
       "account length              int64\n",
       "area code                   int64\n",
       "phone number               object\n",
       "international plan         object\n",
       "voice mail plan            object\n",
       "number vmail messages       int64\n",
       "total day minutes         float64\n",
       "total day calls             int64\n",
       "total day charge          float64\n",
       "total eve minutes         float64\n",
       "total eve calls             int64\n",
       "total eve charge          float64\n",
       "total night minutes       float64\n",
       "total night calls           int64\n",
       "total night charge        float64\n",
       "total intl minutes        float64\n",
       "total intl calls            int64\n",
       "total intl charge         float64\n",
       "customer service calls      int64\n",
       "churn                        bool\n",
       "dtype: object"
      ]
     },
     "execution_count": 5,
     "metadata": {},
     "output_type": "execute_result"
    }
   ],
   "source": [
    "# 4.2 Check and Fix Data Types\n",
    "# Display data types of all columns\n",
    "df.dtypes\n"
   ]
  },
  {
   "cell_type": "markdown",
   "metadata": {},
   "source": [
    "## 4.3 Identify Categorical Columns"
   ]
  },
  {
   "cell_type": "code",
   "execution_count": 6,
   "metadata": {},
   "outputs": [
    {
     "name": "stdout",
     "output_type": "stream",
     "text": [
      "Categorical Columns: ['state', 'phone number', 'international plan', 'voice mail plan']\n"
     ]
    }
   ],
   "source": [
    "# 4.3 Identify Categorical Columns\n",
    "# List of categorical variables\n",
    "categorical_cols = df.select_dtypes(include='object').columns.tolist()\n",
    "print(\"Categorical Columns:\", categorical_cols)\n"
   ]
  },
  {
   "cell_type": "markdown",
   "metadata": {},
   "source": [
    "## 4.4 Encode Categorical Columns"
   ]
  },
  {
   "cell_type": "code",
   "execution_count": 7,
   "metadata": {},
   "outputs": [
    {
     "data": {
      "text/html": [
       "<div>\n",
       "<style scoped>\n",
       "    .dataframe tbody tr th:only-of-type {\n",
       "        vertical-align: middle;\n",
       "    }\n",
       "\n",
       "    .dataframe tbody tr th {\n",
       "        vertical-align: top;\n",
       "    }\n",
       "\n",
       "    .dataframe thead th {\n",
       "        text-align: right;\n",
       "    }\n",
       "</style>\n",
       "<table border=\"1\" class=\"dataframe\">\n",
       "  <thead>\n",
       "    <tr style=\"text-align: right;\">\n",
       "      <th></th>\n",
       "      <th>account length</th>\n",
       "      <th>area code</th>\n",
       "      <th>number vmail messages</th>\n",
       "      <th>total day minutes</th>\n",
       "      <th>total day calls</th>\n",
       "      <th>total day charge</th>\n",
       "      <th>total eve minutes</th>\n",
       "      <th>total eve calls</th>\n",
       "      <th>total eve charge</th>\n",
       "      <th>total night minutes</th>\n",
       "      <th>...</th>\n",
       "      <th>phone number_422-5874</th>\n",
       "      <th>phone number_422-6685</th>\n",
       "      <th>phone number_422-6690</th>\n",
       "      <th>phone number_422-7728</th>\n",
       "      <th>phone number_422-8268</th>\n",
       "      <th>phone number_422-8333</th>\n",
       "      <th>phone number_422-8344</th>\n",
       "      <th>phone number_422-9964</th>\n",
       "      <th>international plan_yes</th>\n",
       "      <th>voice mail plan_yes</th>\n",
       "    </tr>\n",
       "  </thead>\n",
       "  <tbody>\n",
       "    <tr>\n",
       "      <th>0</th>\n",
       "      <td>128</td>\n",
       "      <td>415</td>\n",
       "      <td>25</td>\n",
       "      <td>265.1</td>\n",
       "      <td>110</td>\n",
       "      <td>45.07</td>\n",
       "      <td>197.4</td>\n",
       "      <td>99</td>\n",
       "      <td>16.78</td>\n",
       "      <td>244.7</td>\n",
       "      <td>...</td>\n",
       "      <td>0</td>\n",
       "      <td>0</td>\n",
       "      <td>0</td>\n",
       "      <td>0</td>\n",
       "      <td>0</td>\n",
       "      <td>0</td>\n",
       "      <td>0</td>\n",
       "      <td>0</td>\n",
       "      <td>0</td>\n",
       "      <td>1</td>\n",
       "    </tr>\n",
       "    <tr>\n",
       "      <th>1</th>\n",
       "      <td>107</td>\n",
       "      <td>415</td>\n",
       "      <td>26</td>\n",
       "      <td>161.6</td>\n",
       "      <td>123</td>\n",
       "      <td>27.47</td>\n",
       "      <td>195.5</td>\n",
       "      <td>103</td>\n",
       "      <td>16.62</td>\n",
       "      <td>254.4</td>\n",
       "      <td>...</td>\n",
       "      <td>0</td>\n",
       "      <td>0</td>\n",
       "      <td>0</td>\n",
       "      <td>0</td>\n",
       "      <td>0</td>\n",
       "      <td>0</td>\n",
       "      <td>0</td>\n",
       "      <td>0</td>\n",
       "      <td>0</td>\n",
       "      <td>1</td>\n",
       "    </tr>\n",
       "    <tr>\n",
       "      <th>2</th>\n",
       "      <td>137</td>\n",
       "      <td>415</td>\n",
       "      <td>0</td>\n",
       "      <td>243.4</td>\n",
       "      <td>114</td>\n",
       "      <td>41.38</td>\n",
       "      <td>121.2</td>\n",
       "      <td>110</td>\n",
       "      <td>10.30</td>\n",
       "      <td>162.6</td>\n",
       "      <td>...</td>\n",
       "      <td>0</td>\n",
       "      <td>0</td>\n",
       "      <td>0</td>\n",
       "      <td>0</td>\n",
       "      <td>0</td>\n",
       "      <td>0</td>\n",
       "      <td>0</td>\n",
       "      <td>0</td>\n",
       "      <td>0</td>\n",
       "      <td>0</td>\n",
       "    </tr>\n",
       "    <tr>\n",
       "      <th>3</th>\n",
       "      <td>84</td>\n",
       "      <td>408</td>\n",
       "      <td>0</td>\n",
       "      <td>299.4</td>\n",
       "      <td>71</td>\n",
       "      <td>50.90</td>\n",
       "      <td>61.9</td>\n",
       "      <td>88</td>\n",
       "      <td>5.26</td>\n",
       "      <td>196.9</td>\n",
       "      <td>...</td>\n",
       "      <td>0</td>\n",
       "      <td>0</td>\n",
       "      <td>0</td>\n",
       "      <td>0</td>\n",
       "      <td>0</td>\n",
       "      <td>0</td>\n",
       "      <td>0</td>\n",
       "      <td>0</td>\n",
       "      <td>1</td>\n",
       "      <td>0</td>\n",
       "    </tr>\n",
       "    <tr>\n",
       "      <th>4</th>\n",
       "      <td>75</td>\n",
       "      <td>415</td>\n",
       "      <td>0</td>\n",
       "      <td>166.7</td>\n",
       "      <td>113</td>\n",
       "      <td>28.34</td>\n",
       "      <td>148.3</td>\n",
       "      <td>122</td>\n",
       "      <td>12.61</td>\n",
       "      <td>186.9</td>\n",
       "      <td>...</td>\n",
       "      <td>0</td>\n",
       "      <td>0</td>\n",
       "      <td>0</td>\n",
       "      <td>0</td>\n",
       "      <td>0</td>\n",
       "      <td>0</td>\n",
       "      <td>0</td>\n",
       "      <td>0</td>\n",
       "      <td>1</td>\n",
       "      <td>0</td>\n",
       "    </tr>\n",
       "  </tbody>\n",
       "</table>\n",
       "<p>5 rows × 3401 columns</p>\n",
       "</div>"
      ],
      "text/plain": [
       "   account length  area code  number vmail messages  total day minutes  \\\n",
       "0             128        415                     25              265.1   \n",
       "1             107        415                     26              161.6   \n",
       "2             137        415                      0              243.4   \n",
       "3              84        408                      0              299.4   \n",
       "4              75        415                      0              166.7   \n",
       "\n",
       "   total day calls  total day charge  total eve minutes  total eve calls  \\\n",
       "0              110             45.07              197.4               99   \n",
       "1              123             27.47              195.5              103   \n",
       "2              114             41.38              121.2              110   \n",
       "3               71             50.90               61.9               88   \n",
       "4              113             28.34              148.3              122   \n",
       "\n",
       "   total eve charge  total night minutes  ...  phone number_422-5874  \\\n",
       "0             16.78                244.7  ...                      0   \n",
       "1             16.62                254.4  ...                      0   \n",
       "2             10.30                162.6  ...                      0   \n",
       "3              5.26                196.9  ...                      0   \n",
       "4             12.61                186.9  ...                      0   \n",
       "\n",
       "   phone number_422-6685  phone number_422-6690  phone number_422-7728  \\\n",
       "0                      0                      0                      0   \n",
       "1                      0                      0                      0   \n",
       "2                      0                      0                      0   \n",
       "3                      0                      0                      0   \n",
       "4                      0                      0                      0   \n",
       "\n",
       "   phone number_422-8268  phone number_422-8333  phone number_422-8344  \\\n",
       "0                      0                      0                      0   \n",
       "1                      0                      0                      0   \n",
       "2                      0                      0                      0   \n",
       "3                      0                      0                      0   \n",
       "4                      0                      0                      0   \n",
       "\n",
       "   phone number_422-9964  international plan_yes  voice mail plan_yes  \n",
       "0                      0                       0                    1  \n",
       "1                      0                       0                    1  \n",
       "2                      0                       0                    0  \n",
       "3                      0                       1                    0  \n",
       "4                      0                       1                    0  \n",
       "\n",
       "[5 rows x 3401 columns]"
      ]
     },
     "execution_count": 7,
     "metadata": {},
     "output_type": "execute_result"
    }
   ],
   "source": [
    "# 4.4 Encode Categorical Columns using one-hot encoding\n",
    "df_encoded = pd.get_dummies(df, drop_first=True)\n",
    "df_encoded.head()\n"
   ]
  },
  {
   "cell_type": "markdown",
   "metadata": {},
   "source": [
    "## 4.5 Confirm Final Dataset"
   ]
  },
  {
   "cell_type": "code",
   "execution_count": 8,
   "metadata": {},
   "outputs": [
    {
     "name": "stdout",
     "output_type": "stream",
     "text": [
      "<class 'pandas.core.frame.DataFrame'>\n",
      "RangeIndex: 3333 entries, 0 to 3332\n",
      "Columns: 3401 entries, account length to voice mail plan_yes\n",
      "dtypes: bool(1), float64(8), int64(8), uint8(3384)\n",
      "memory usage: 11.2 MB\n"
     ]
    }
   ],
   "source": [
    "# Check shape and structure of cleaned data\n",
    "df_encoded.info()\n"
   ]
  },
  {
   "cell_type": "markdown",
   "metadata": {},
   "source": [
    "##  EDA and Statistics\n",
    "**We want to uncover patterns, trends, and relationships to better understand customer churn. Some guiding questions:**\n",
    "\n",
    "- 1.Which features are most associated with churn?\n",
    "\n",
    "- 2.Do customers with international plans churn more?\n",
    "\n",
    "- 3.Does the number of customer service calls relate to churn?\n",
    "\n",
    "- 4.How does usage (minutes, charges) differ between churners and non-churners?\n",
    "\n",
    "- 5.Are there any standout states with higher churn rates?"
   ]
  },
  {
   "cell_type": "markdown",
   "metadata": {},
   "source": [
    "### Importing Libraries"
   ]
  },
  {
   "cell_type": "code",
   "execution_count": 9,
   "metadata": {},
   "outputs": [],
   "source": [
    "# 5.0 Import necessary libraries for EDA\n",
    "import pandas as pd\n",
    "import matplotlib.pyplot as plt\n",
    "import seaborn as sns\n",
    "\n",
    "# Set default theme for seaborn\n",
    "sns.set(style=\"whitegrid\")\n"
   ]
  },
  {
   "cell_type": "markdown",
   "metadata": {},
   "source": [
    "### 5.1 Churn Distribution\n",
    "\n",
    "Before analyzing features in relation to churn, let's understand the overall distribution of churned vs non-churned customers. This tells us whether we’re dealing with class imbalance.\n"
   ]
  },
  {
   "cell_type": "code",
   "execution_count": 10,
   "metadata": {},
   "outputs": [
    {
     "name": "stdout",
     "output_type": "stream",
     "text": [
      "📊 Churn Rate: 14.49%\n"
     ]
    },
    {
     "data": {
      "image/png": "[encoded data removed]",
      "text/plain": [
       "<Figure size 432x288 with 1 Axes>"
      ]
     },
     "metadata": {},
     "output_type": "display_data"
    }
   ],
   "source": [
    "# Plot churn distribution\n",
    "plt.figure(figsize=(6, 4))\n",
    "sns.countplot(x='churn', data=df, palette='Set2')\n",
    "plt.title(\"Churn Distribution\")\n",
    "plt.xlabel(\"Churn\")\n",
    "plt.ylabel(\"Number of Customers\")\n",
    "plt.xticks([0, 1], ['No', 'Yes'])\n",
    "\n",
    "# Show churn rate\n",
    "churn_rate = df['churn'].mean()\n",
    "print(f\"📊 Churn Rate: {churn_rate:.2%}\")\n",
    "plt.show()\n"
   ]
  },
  {
   "cell_type": "markdown",
   "metadata": {},
   "source": [
    "### 5.1 Churn Distribution – Interpretation\n",
    "\n",
    "The bar chart above visualizes the distribution of customers who have churned (left the service) versus those who have remained subscribed.\n",
    "\n",
    "#### Key Observations\n",
    "\n",
    "- **Most customers did not churn**  \n",
    "  The chart shows that a large majority of the customers fall under the \"No\" category, meaning they did not leave the company. This is represented by the much taller bar on the left.\n",
    "\n",
    "- **Only a small portion churned**  \n",
    "  A significantly smaller number of customers fall under the \"Yes\" category. These are the customers who have churned and are represented by the shorter bar on the right.\n",
    "\n",
    "#### Why This Matters\n",
    "\n",
    "- **Class Imbalance**  \n",
    "  This imbalance between churned and non-churned customers is critical to highlight. When training machine learning models, class imbalance can lead to a situation where the model favors the majority class (\"No churn\") and performs poorly at detecting churned customers. This will need to be addressed later in the modeling phase through techniques such as resampling or adjusting class weights.\n",
    "\n",
    "- **Business Implications**  \n",
    "  While the proportion of churned customers appears relatively small, each lost customer can represent a financial loss and potential dissatisfaction with the service. Understanding the causes of churn is essential to improving customer satisfaction and long-term retention.\n",
    "\n",
    "#### Next Steps\n",
    "\n",
    "In the next steps, I will explore how different variables (such as international plan, customer service calls, and usage behavior) relate to churn. This will help build a foundation for predictive modeling and inform actionable business strategies to reduce churn.\n"
   ]
  },
  {
   "cell_type": "markdown",
   "metadata": {},
   "source": [
    "### 5.2 Churn Rate by International Plan\n",
    "\n",
    "**Goal:**  \n",
    "Explore whether customers who have subscribed to the **International Plan** are more likely to churn than those who haven’t.\n",
    "\n",
    "To analyze this, I will:\n",
    "\n",
    "- Group the dataset by `international plan` and `churn` status.\n",
    "- Count the number of customers in each group.\n",
    "- Normalize the values to show proportions.\n",
    "- Visualize the results in a stacked bar chart to compare churn behavior for customers **with** and **without** an international plan.\n"
   ]
  },
  {
   "cell_type": "code",
   "execution_count": 11,
   "metadata": {},
   "outputs": [
    {
     "data": {
      "image/png": "[encoded data removed]",
      "text/plain": [
       "<Figure size 504x360 with 1 Axes>"
      ]
     },
     "metadata": {},
     "output_type": "display_data"
    }
   ],
   "source": [
    "# 5.2 Churn Rate by International Plan\n",
    "int_plan_churn = df.groupby(['international plan', 'churn']).size().unstack()\n",
    "\n",
    "# Normalize by row to get percentages\n",
    "int_plan_churn_percent = int_plan_churn.div(int_plan_churn.sum(axis=1), axis=0)\n",
    "\n",
    "# Plot\n",
    "int_plan_churn_percent.plot(kind='bar', stacked=True, figsize=(7,5), color=['#69b3a2', '#e9967a'])\n",
    "plt.title(\"Churn Rate by International Plan\")\n",
    "plt.xlabel(\"International Plan\")\n",
    "plt.ylabel(\"Proportion of Customers\")\n",
    "plt.legend(title=\"Churn\")\n",
    "plt.tight_layout()\n",
    "plt.show()"
   ]
  },
  {
   "cell_type": "markdown",
   "metadata": {},
   "source": [
    "### 5.2 Churn Rate by International Plan - Interpretation\n",
    "\n",
    "This bar chart compares the proportion of customers who churned based on whether they were subscribed to the **International Plan**.\n",
    "\n",
    "**Key Insights:**\n",
    "\n",
    "- **Customers without an International Plan (left bar)**: The vast majority did **not churn**. A very small portion of this group ended their service.\n",
    "- **Customers with an International Plan (right bar)**: A **much higher proportion churned** compared to those without the plan.\n",
    "\n",
    "**Conclusion:**\n",
    "\n",
    "Having an International Plan appears to be **strongly associated with a higher likelihood of churn**. This could suggest that customers using international services are less satisfied or have higher expectations that aren't being met.\n",
    "\n",
    "This is an important signal for the business—it may be worth investigating the International Plan’s pricing, service quality, or customer support experience.\n"
   ]
  },
  {
   "cell_type": "markdown",
   "metadata": {},
   "source": [
    "## 5.3 Customer Service Calls and Churn\n",
    "\n",
    "**Objective:** Investigate whether the number of calls a customer makes to customer service is related to their likelihood of churning.\n",
    "\n",
    "To do this, we will:\n",
    "\n",
    "- Group customers based on the number of customer service calls.\n",
    "- Calculate the churn rate for each group.\n",
    "- Visualize the relationship between customer service interactions and churn behavior.\n",
    "\n",
    "This will help us determine if frequent customer service interactions are a warning sign of dissatisfaction leading to churn.\n"
   ]
  },
  {
   "cell_type": "code",
   "execution_count": 12,
   "metadata": {},
   "outputs": [
    {
     "data": {
      "image/png": "[encoded data removed]",
      "text/plain": [
       "<Figure size 576x360 with 1 Axes>"
      ]
     },
     "metadata": {},
     "output_type": "display_data"
    }
   ],
   "source": [
    "# Group data by number of customer service calls and churn\n",
    "cs_calls_churn = df.groupby(['customer service calls', 'churn']).size().unstack()\n",
    "\n",
    "# Normalize to get proportions\n",
    "cs_calls_churn_percent = cs_calls_churn.div(cs_calls_churn.sum(axis=1), axis=0)\n",
    "\n",
    "# Plot\n",
    "cs_calls_churn_percent.plot(kind='bar', stacked=True, figsize=(8,5), color=['#69b3a2', '#e9967a'])\n",
    "plt.title(\"Churn Rate by Customer Service Calls\")\n",
    "plt.xlabel(\"Customer Service Calls\")\n",
    "plt.ylabel(\"Proportion of Customers\")\n",
    "plt.legend(title=\"Churn\")\n",
    "plt.tight_layout()\n",
    "plt.show()\n"
   ]
  },
  {
   "cell_type": "markdown",
   "metadata": {},
   "source": [
    "## 5.3 Interpretation: Churn Rate by Customer Service Calls\n",
    "\n",
    "This stacked bar chart shows how the likelihood of a customer churning varies depending on the number of times they contacted customer service.\n",
    "\n",
    "### Key Observations\n",
    "\n",
    "- **Low Churn with Few Calls:**  \n",
    "  Customers who made **0 to 3 customer service calls** have a **very low churn rate**. Most of them are retained (green portion), indicating satisfaction or fewer issues.\n",
    "\n",
    "- **Churn Rises After 3 Calls:**  \n",
    "  Starting from **4 calls and above**, the churn rate begins to increase significantly.  \n",
    "  By **5 or more calls**, more customers are churning (orange portion becomes dominant).\n",
    "\n",
    "- **High Churn Beyond 5 Calls:**  \n",
    "  At **6 or more calls**, the churn rate is very high — in some cases, **more than half** of the customers who contacted support this many times ended up churning.\n",
    "\n",
    "### Interpretation\n",
    "\n",
    "This trend strongly suggests a **relationship between customer dissatisfaction and churn**:\n",
    "- Frequent contact with customer service likely signals unresolved problems or frustration.\n",
    "- When issues aren't resolved promptly or effectively, customers are more likely to leave.\n",
    "\n",
    "### Implication for the Business\n",
    "\n",
    "- The company should **analyze customer service interactions closely**, especially for those who call multiple times.\n",
    "- Taking **proactive steps** to resolve issues quickly for customers who call **more than 3 times** might significantly reduce churn.\n"
   ]
  },
  {
   "cell_type": "markdown",
   "metadata": {},
   "source": [
    "## 5.4 Churn vs Total Day Minutes\n",
    "\n",
    "### Objective:\n",
    "Determine if higher usage during the day (in terms of total minutes) has any relation to customer churn.\n"
   ]
  },
  {
   "cell_type": "code",
   "execution_count": 13,
   "metadata": {},
   "outputs": [
    {
     "data": {
      "image/png": "[encoded data removed]",
      "text/plain": [
       "<Figure size 576x360 with 1 Axes>"
      ]
     },
     "metadata": {},
     "output_type": "display_data"
    }
   ],
   "source": [
    "# Set style\n",
    "sns.set(style=\"whitegrid\")\n",
    "\n",
    "# Plot\n",
    "plt.figure(figsize=(8, 5))\n",
    "sns.boxplot(x='churn', y='total day minutes', data=df, palette=['#69b3a2', '#e9967a'])\n",
    "plt.title('Churn vs. Total Day Minutes')\n",
    "plt.xlabel('Churn')\n",
    "plt.ylabel('Total Day Minutes')\n",
    "plt.tight_layout()\n",
    "plt.show()"
   ]
  },
  {
   "cell_type": "markdown",
   "metadata": {},
   "source": [
    "## Interpretation: Churn vs Total Day Minutes\n",
    "\n",
    "This boxplot compares the distribution of total day minutes used by customers who churned versus those who did not.\n",
    "\n",
    "###  Key Observations\n",
    "\n",
    "- **Higher Usage Among Churned Customers**:\n",
    "  - Customers who churned tend to have higher total day minutes compared to those who stayed.\n",
    "  - The median (middle line in the box) for churned customers is visibly higher.\n",
    "\n",
    "- **Wider Spread in Churned Group**:\n",
    "  - The churned group shows more variability, with some customers using significantly more minutes than the average.\n",
    "\n",
    "- **Potential Outliers**:\n",
    "  - There are a few extreme outliers among the churned group, indicating very high usage for a small subset of customers.\n",
    "\n",
    "###  Interpretation\n",
    "\n",
    "This pattern suggests a correlation between **higher daytime usage** and **likelihood of churn**:\n",
    "\n",
    "- Heavy users may have **higher expectations** or are more likely to experience **network or billing issues**, leading to dissatisfaction.\n",
    "- Alternatively, the pricing model might not favor high-usage customers, prompting them to switch providers.\n",
    "\n",
    "###  Implication for the Business\n",
    "\n",
    "- Analyze the experience of high-usage customers — Are they facing service degradation? Are they unhappy with pricing?\n",
    "- Consider **loyalty programs or better plans** for heavy users to prevent them from churning.\n",
    "- Use this insight to **segment customers by usage** and apply **targeted retention strategies**.\n"
   ]
  },
  {
   "cell_type": "markdown",
   "metadata": {},
   "source": [
    "## 5.5 Churn vs Total Night Minutes\n",
    "\n",
    "### Objective:\n",
    "Evaluate whether there’s any noticeable relationship between night-time call minutes and customer churn.\n",
    "\n",
    "To assess this, we will:\n",
    "\n",
    "- Visualize the distribution of total night minutes for churned vs non-churned customers using a boxplot.\n",
    "- Examine whether customers who churned tend to have higher or lower night-time call durations.\n",
    "- Analyze any observable patterns that could guide business strategy for retention.\n"
   ]
  },
  {
   "cell_type": "code",
   "execution_count": 14,
   "metadata": {},
   "outputs": [
    {
     "data": {
      "image/png": "[encoded data removed]",
      "text/plain": [
       "<Figure size 576x360 with 1 Axes>"
      ]
     },
     "metadata": {},
     "output_type": "display_data"
    }
   ],
   "source": [
    "# Set style\n",
    "sns.set(style=\"whitegrid\")\n",
    "\n",
    "# Plot\n",
    "plt.figure(figsize=(8, 5))\n",
    "sns.boxplot(x='churn', y='total night minutes', data=df, palette=['#69b3a2', '#e9967a'])\n",
    "plt.title('Churn vs. Total Night Minutes')\n",
    "plt.xlabel('Churn')\n",
    "plt.ylabel('Total Night Minutes')\n",
    "plt.tight_layout()\n",
    "plt.show()\n"
   ]
  },
  {
   "cell_type": "markdown",
   "metadata": {},
   "source": [
    "##  Churn vs. Total Night Minutes (Boxplot Interpretation)\n",
    "\n",
    "This boxplot compares the distribution of **Total Night Minutes** between customers who **churned** (`True`) and those who **did not churn** (`False`).\n",
    "\n",
    "### Boxplot Summary\n",
    "\n",
    "| Metric                  | Churn = False     | Churn = True      |\n",
    "|-------------------------|-------------------|--------------------|\n",
    "| **Median**              | ~200 minutes      | ~210 minutes       |\n",
    "| **IQR (Spread)**        | Wider             | Narrower           |\n",
    "| **Range**               | ~30 to ~340+ mins | ~45 to ~340+ mins  |\n",
    "| **Outliers**            | Many high outliers| Fewer, but present |\n",
    "| **Symmetry**            | Slight skew       | Fairly symmetric   |\n",
    "\n",
    "###  Key Insights\n",
    "\n",
    "-  **Higher Median for Churners**: Customers who churned had a slightly **higher median night usage**, suggesting they used night minutes more than non-churners.\n",
    "-  **Similar Overall Ranges**: Both groups had similar minimum and maximum values, but the internal spread of values differed.\n",
    "-  **Outliers**:\n",
    "  - Non-churners had **more extreme values** above 300 mins.\n",
    "  - Churners had **fewer but notable outliers**.\n",
    "\n",
    "###  Interpretation\n",
    "\n",
    "- High night usage **alone does not strongly predict churn**, but might contribute to it when combined with other factors.\n",
    "- The difference in spread indicates **different behavior patterns** between churners and non-churners.\n",
    "\n",
    "###  Business Implication\n",
    "\n",
    "Understanding night-time call behavior can support:\n",
    "- Creating **targeted packages** for high-usage night callers.\n",
    "- **Retaining potential churners** with personalized offers or better night-time service experience.\n"
   ]
  },
  {
   "cell_type": "markdown",
   "metadata": {},
   "source": [
    "## 5.6 Churn vs Total Evening Minutes\n",
    "\n",
    "### Objective\n",
    "Investigate whether there is a noticeable difference in evening call usage (in minutes) between customers who churn and those who remain subscribed."
   ]
  },
  {
   "cell_type": "code",
   "execution_count": 15,
   "metadata": {},
   "outputs": [
    {
     "data": {
      "image/png": "[encoded data removed]",
      "text/plain": [
       "<Figure size 576x360 with 1 Axes>"
      ]
     },
     "metadata": {},
     "output_type": "display_data"
    }
   ],
   "source": [
    "# Set style\n",
    "sns.set(style=\"whitegrid\")\n",
    "\n",
    "# Plot\n",
    "plt.figure(figsize=(8, 5))\n",
    "sns.boxplot(x='churn', y='total eve minutes', data=df, palette=['#69b3a2', '#e9967a'])\n",
    "plt.title('Churn vs. Total Evening Minutes')\n",
    "plt.xlabel('Churn')\n",
    "plt.ylabel('Total Evening Minutes')\n",
    "plt.tight_layout()\n",
    "plt.show()\n"
   ]
  },
  {
   "cell_type": "markdown",
   "metadata": {},
   "source": [
    "### Interpretation: Churn vs Total Evening Minutes\n",
    "\n",
    "This boxplot compares the distribution of total evening minutes for churned versus non-churned customers.\n",
    "\n",
    "#### Key Observations\n",
    "\n",
    "**Higher Usage Among Churners:**\n",
    "- The median value for customers who churned is slightly higher than those who didn’t.\n",
    "- This indicates that customers who churn may use evening minutes more.\n",
    "\n",
    "**Spread and Outliers:**\n",
    "- The churned group has a more compact IQR (interquartile range), suggesting slightly less variability within the middle 50%.\n",
    "- Non-churned customers have a wider range, with a few high outliers beyond 300 minutes.\n",
    "\n",
    "#### Interpretation\n",
    "\n",
    "Evening usage alone doesn’t appear to be a strong indicator of churn but may still be a contributing factor.\n",
    "- Higher usage could reflect customer reliance on service during evening hours, potentially increasing sensitivity to service quality or cost.\n",
    "\n",
    "#### Business Implications\n",
    "\n",
    "- Consider evaluating if evening heavy users are experiencing issues such as dropped calls or billing confusion.\n",
    "- Offer incentives or tailored plans for high-evening users to improve satisfaction and reduce churn.\n"
   ]
  },
  {
   "cell_type": "markdown",
   "metadata": {},
   "source": [
    "## 5.7 Churn vs Total Night Minutes\n",
    "\n",
    "### Objective  \n",
    "Investigate whether there is a significant difference in night call usage (in minutes) between customers who churned and those who remained subscribed.\n"
   ]
  },
  {
   "cell_type": "code",
   "execution_count": 16,
   "metadata": {},
   "outputs": [
    {
     "data": {
      "image/png": "[encoded data removed]",
      "text/plain": [
       "<Figure size 576x360 with 1 Axes>"
      ]
     },
     "metadata": {},
     "output_type": "display_data"
    }
   ],
   "source": [
    "# Set style\n",
    "sns.set(style=\"whitegrid\")\n",
    "\n",
    "# Plot\n",
    "plt.figure(figsize=(8, 5))\n",
    "sns.boxplot(x='churn', y='total night minutes', data=df, palette=['#6a9fb5', '#f4a261'])\n",
    "plt.title('Churn vs. Total Night Minutes')\n",
    "plt.xlabel('Churn')\n",
    "plt.ylabel('Total Night Minutes')\n",
    "plt.tight_layout()\n",
    "plt.show()\n"
   ]
  },
  {
   "cell_type": "markdown",
   "metadata": {},
   "source": [
    "### Interpretation: Churn vs Total Night Minutes\n",
    "\n",
    "This boxplot compares the distribution of total night minutes for churned and non-churned customers.\n",
    "\n",
    "####  Key Observations\n",
    "\n",
    "- **Similar Medians**: The median night minutes used is nearly identical for both groups, indicating that night-time usage does not strongly differentiate churn behavior.\n",
    "- **Slightly Wider Spread for Non-Churners**: Non-churned customers show slightly more variation, but the overall distribution is quite similar across groups.\n",
    "- **Fewer Outliers**: There are fewer extreme outliers, suggesting night usage is more consistent across users.\n",
    "\n",
    "####  Interpretation\n",
    "\n",
    "Night call usage does not appear to have a strong influence on churn. Both churned and non-churned customers tend to use similar amounts of night minutes.\n",
    "\n",
    "####  Business Implications\n",
    "\n",
    "- Resources may be better focused on other time periods (e.g., day or evening) where usage differences are more pronounced.\n",
    "- However, it's still important to ensure quality night-time service, especially for users who rely on off-peak hours.\n"
   ]
  },
  {
   "cell_type": "markdown",
   "metadata": {},
   "source": [
    "## 5.8 Churn vs Total International Minutes\n",
    "\n",
    "###  Objective\n",
    "\n",
    "Investigate whether customers who churned tend to spend more time on international calls compared to those who remain subscribed.\n"
   ]
  },
  {
   "cell_type": "code",
   "execution_count": 17,
   "metadata": {},
   "outputs": [
    {
     "data": {
      "image/png": "[encoded data removed]",
      "text/plain": [
       "<Figure size 576x360 with 1 Axes>"
      ]
     },
     "metadata": {},
     "output_type": "display_data"
    }
   ],
   "source": [
    "# Set style\n",
    "sns.set(style=\"whitegrid\")\n",
    "\n",
    "# Plot\n",
    "plt.figure(figsize=(8, 5))\n",
    "sns.boxplot(x='churn', y='total intl minutes', data=df, palette=['#90be6d', '#f94144'])\n",
    "plt.title('Churn vs. Total International Minutes')\n",
    "plt.xlabel('Churn')\n",
    "plt.ylabel('Total International Minutes')\n",
    "plt.tight_layout()\n",
    "plt.show()\n"
   ]
  },
  {
   "cell_type": "markdown",
   "metadata": {},
   "source": [
    "## 5.8 Churn vs Total International Minutes\n",
    "\n",
    "###  Interpretation: Churn vs Total International Minutes\n",
    "\n",
    "This boxplot compares the distribution of international call minutes for churned versus non-churned customers.\n",
    "\n",
    "---\n",
    "\n",
    "###  Key Observations\n",
    "\n",
    "- **Higher International Usage Among Churners**  \n",
    "  The median international minutes for churned customers is visibly higher than that of non-churned customers.  \n",
    "  This suggests that customers who make more international calls may be more likely to churn.\n",
    "\n",
    "- **Outliers and Distribution**  \n",
    "  Both churned and non-churned groups show a relatively tight interquartile range (IQR), but churned customers have more visible outliers above 20 minutes, which may reflect a smaller group of heavy users.\n",
    "\n",
    "---\n",
    "\n",
    "### Interpretation\n",
    "\n",
    "Higher international usage may contribute to churn, possibly due to:\n",
    "\n",
    "- Higher international call charges leading to customer dissatisfaction  \n",
    "- Expectation mismatch in international call quality or costs  \n",
    "- Lack of competitive international calling plans\n",
    "\n",
    "---\n",
    "\n",
    "### Business Implications\n",
    "\n",
    "- Consider introducing or promoting international calling bundles for heavy users.\n",
    "- Identify and proactively engage international callers with loyalty programs or feedback surveys.\n",
    "- Monitor complaints or issues related to international calls as early churn signals.\n"
   ]
  },
  {
   "cell_type": "markdown",
   "metadata": {},
   "source": [
    "## 5.9 Churn vs Customer Service Calls (Categorical)\n",
    "\n",
    "###  Objective\n",
    "\n",
    "Investigate the relationship between the number of customer service calls and churn, with a focus on understanding if increased customer service interactions correlate with higher churn rates.\n"
   ]
  },
  {
   "cell_type": "code",
   "execution_count": 18,
   "metadata": {},
   "outputs": [
    {
     "data": {
      "image/png": "[encoded data removed]",
      "text/plain": [
       "<Figure size 576x360 with 1 Axes>"
      ]
     },
     "metadata": {},
     "output_type": "display_data"
    }
   ],
   "source": [
    "# Set style\n",
    "sns.set(style=\"whitegrid\")\n",
    "\n",
    "# Plot\n",
    "plt.figure(figsize=(8, 5))\n",
    "sns.countplot(x='customer service calls', hue='churn', data=df, palette='Set2')\n",
    "plt.title('Churn by Customer Service Calls')\n",
    "plt.xlabel('Customer Service Calls')\n",
    "plt.ylabel('Number of Customers')\n",
    "plt.tight_layout()\n",
    "plt.show()"
   ]
  },
  {
   "cell_type": "markdown",
   "metadata": {},
   "source": [
    "### Interpretation: Churn vs Customer Service Calls (Categorical)\n",
    "\n",
    "This count plot visualizes the number of customer service calls made by customers and how it relates to churn.\n",
    "\n",
    "####  Key Observations\n",
    "\n",
    "- **Higher Churn with More Calls**:  \n",
    "  Customers who made 4 or more customer service calls are significantly more likely to churn.\n",
    "\n",
    "- **Majority Didn't Call Much**:  \n",
    "  Most customers, both churned and non-churned, made fewer than 3 calls.\n",
    "\n",
    "- **Churn Rate Spikes After 3 Calls**:  \n",
    "  The churn rate sharply increases for customers who contacted customer service frequently.\n",
    "\n",
    "####  Interpretation\n",
    "\n",
    "Frequent interactions with customer service may indicate dissatisfaction or unresolved issues. This group is at higher risk of leaving.\n",
    "\n",
    "####  Business Implications\n",
    "\n",
    "- Identify and flag customers who call 3+ times as **churn risks**.\n",
    "- Implement a **priority resolution system** for repeat callers to enhance satisfaction.\n",
    "- Regularly audit **customer service effectiveness** to reduce churn triggers.\n"
   ]
  },
  {
   "cell_type": "markdown",
   "metadata": {},
   "source": [
    "## 5.10 Churn vs International Plan\n",
    "\n",
    "###  Objective\n",
    "\n",
    "Examine whether having an international calling plan affects the likelihood of churn. This analysis seeks to determine if customers with international plans are more likely to leave than those without.\n"
   ]
  },
  {
   "cell_type": "code",
   "execution_count": 19,
   "metadata": {},
   "outputs": [
    {
     "data": {
      "image/png": "[encoded data removed]",
      "text/plain": [
       "<Figure size 576x360 with 1 Axes>"
      ]
     },
     "metadata": {},
     "output_type": "display_data"
    }
   ],
   "source": [
    "# Set style\n",
    "sns.set(style=\"whitegrid\")\n",
    "\n",
    "# Plot\n",
    "plt.figure(figsize=(8, 5))\n",
    "sns.countplot(x='international plan', hue='churn', data=df, palette='pastel')\n",
    "plt.title('Churn vs. International Plan')\n",
    "plt.xlabel('International Plan')\n",
    "plt.ylabel('Count')\n",
    "plt.legend(title='Churn')\n",
    "plt.tight_layout()\n",
    "plt.show()"
   ]
  },
  {
   "cell_type": "markdown",
   "metadata": {},
   "source": [
    "### Interpretation: Churn vs International Plan\n",
    "\n",
    "This count plot compares the churn distribution between customers with and without an international calling plan.\n",
    "\n",
    "#### Key Observations\n",
    "\n",
    "- **Higher Churn Rate Among International Plan Users**:  \n",
    "  A significantly higher proportion of churned customers had an international plan compared to those who did not.\n",
    "\n",
    "- **Majority Without Plan**:  \n",
    "  Most customers, regardless of churn status, do not subscribe to the international plan. However, among those who do, churn is noticeably more frequent.\n",
    "\n",
    "#### Interpretation\n",
    "\n",
    "- Customers with international plans are more likely to churn.  \n",
    "  This could be due to dissatisfaction with international call rates, poor service quality during international calls, or billing issues.\n",
    "\n",
    "#### Business Implications\n",
    "\n",
    "- **Service Review**:  \n",
    "  Investigate the quality and pricing of the international calling service. Identify any recurring complaints from churned users with the plan.\n",
    "\n",
    "- **Customer Feedback Loop**:  \n",
    "  Reach out to current international plan users to gather feedback and proactively address concerns.\n",
    "\n",
    "- **Targeted Retention Offers**:  \n",
    "  Offer incentives, discounts, or upgraded service packages to international plan users at risk of churn.\n",
    "\n"
   ]
  },
  {
   "cell_type": "markdown",
   "metadata": {},
   "source": [
    "## 6. Statistics\n",
    "\n",
    "### Objective\n",
    "\n",
    "To perform statistical analysis on the dataset to determine whether the differences observed in earlier visualizations (e.g., churn vs. total minutes, service plans, etc.) are statistically significant. This helps to validate whether patterns are likely due to chance or represent meaningful relationships.\n"
   ]
  },
  {
   "cell_type": "markdown",
   "metadata": {},
   "source": [
    "## 6.1 Descriptive Statistics by Churn\n",
    "\n",
    "###  Objective\n",
    "\n",
    "To summarize and compare key statistics (mean, median, standard deviation, etc.) between customers who churned and those who didn’t, across relevant features. This provides a clearer picture of behavioral or usage differences.\n"
   ]
  },
  {
   "cell_type": "code",
   "execution_count": 20,
   "metadata": {},
   "outputs": [
    {
     "data": {
      "text/html": [
       "<div>\n",
       "<style scoped>\n",
       "    .dataframe tbody tr th:only-of-type {\n",
       "        vertical-align: middle;\n",
       "    }\n",
       "\n",
       "    .dataframe tbody tr th {\n",
       "        vertical-align: top;\n",
       "    }\n",
       "\n",
       "    .dataframe thead th {\n",
       "        text-align: right;\n",
       "    }\n",
       "</style>\n",
       "<table border=\"1\" class=\"dataframe\">\n",
       "  <thead>\n",
       "    <tr style=\"text-align: right;\">\n",
       "      <th></th>\n",
       "      <th>churn</th>\n",
       "      <th>False</th>\n",
       "      <th>True</th>\n",
       "    </tr>\n",
       "  </thead>\n",
       "  <tbody>\n",
       "    <tr>\n",
       "      <th rowspan=\"5\" valign=\"top\">account length</th>\n",
       "      <th>count</th>\n",
       "      <td>2850.000000</td>\n",
       "      <td>483.000000</td>\n",
       "    </tr>\n",
       "    <tr>\n",
       "      <th>mean</th>\n",
       "      <td>100.793684</td>\n",
       "      <td>102.664596</td>\n",
       "    </tr>\n",
       "    <tr>\n",
       "      <th>std</th>\n",
       "      <td>39.882350</td>\n",
       "      <td>39.467820</td>\n",
       "    </tr>\n",
       "    <tr>\n",
       "      <th>min</th>\n",
       "      <td>1.000000</td>\n",
       "      <td>1.000000</td>\n",
       "    </tr>\n",
       "    <tr>\n",
       "      <th>25%</th>\n",
       "      <td>73.000000</td>\n",
       "      <td>76.000000</td>\n",
       "    </tr>\n",
       "    <tr>\n",
       "      <th>...</th>\n",
       "      <th>...</th>\n",
       "      <td>...</td>\n",
       "      <td>...</td>\n",
       "    </tr>\n",
       "    <tr>\n",
       "      <th rowspan=\"5\" valign=\"top\">customer service calls</th>\n",
       "      <th>min</th>\n",
       "      <td>0.000000</td>\n",
       "      <td>0.000000</td>\n",
       "    </tr>\n",
       "    <tr>\n",
       "      <th>25%</th>\n",
       "      <td>1.000000</td>\n",
       "      <td>1.000000</td>\n",
       "    </tr>\n",
       "    <tr>\n",
       "      <th>50%</th>\n",
       "      <td>1.000000</td>\n",
       "      <td>2.000000</td>\n",
       "    </tr>\n",
       "    <tr>\n",
       "      <th>75%</th>\n",
       "      <td>2.000000</td>\n",
       "      <td>4.000000</td>\n",
       "    </tr>\n",
       "    <tr>\n",
       "      <th>max</th>\n",
       "      <td>8.000000</td>\n",
       "      <td>9.000000</td>\n",
       "    </tr>\n",
       "  </tbody>\n",
       "</table>\n",
       "<p>128 rows × 2 columns</p>\n",
       "</div>"
      ],
      "text/plain": [
       "churn                               False       True \n",
       "account length         count  2850.000000  483.000000\n",
       "                       mean    100.793684  102.664596\n",
       "                       std      39.882350   39.467820\n",
       "                       min       1.000000    1.000000\n",
       "                       25%      73.000000   76.000000\n",
       "...                                   ...         ...\n",
       "customer service calls min       0.000000    0.000000\n",
       "                       25%       1.000000    1.000000\n",
       "                       50%       1.000000    2.000000\n",
       "                       75%       2.000000    4.000000\n",
       "                       max       8.000000    9.000000\n",
       "\n",
       "[128 rows x 2 columns]"
      ]
     },
     "execution_count": 20,
     "metadata": {},
     "output_type": "execute_result"
    }
   ],
   "source": [
    "# Group by churn and calculate descriptive statistics\n",
    "churn_stats = df.groupby('churn').describe()\n",
    "\n",
    "# Display summary\n",
    "churn_stats.T  # Transpose for better readability"
   ]
  },
  {
   "cell_type": "markdown",
   "metadata": {},
   "source": [
    "### Interpretation: Descriptive Statistics by Churn\n",
    "\n",
    "This analysis provides summary statistics for numerical features, grouped by customer churn status.\n",
    "\n",
    "#### Key Observations:\n",
    "\n",
    "- **Account Length:**\n",
    "  - Mean account length is slightly higher for churned customers (`102.7`) compared to non-churned (`100.8`).\n",
    "  - Standard deviations are similar, indicating comparable spread.\n",
    "  - Not a strong differentiator on its own.\n",
    "\n",
    "- **Customer Service Calls:**\n",
    "  - Median (`50%`) number of calls for churned customers is **2**, compared to **1** for non-churned.\n",
    "  - The upper quartile (`75%`) is **4** for churned vs. **2** for non-churned, and the maximum is slightly higher (`9` vs. `8`).\n",
    "  - Indicates that churned customers tend to contact customer service more often.\n",
    "\n",
    "#### Implication:\n",
    "\n",
    "- Features like **customer service calls** show clearer distinctions between churned and non-churned groups and may serve as a useful predictor in churn modeling.\n",
    "- Other variables like account length show only minor differences and might have less predictive power individually.\n",
    "\n",
    "This analysis provides summary statistics for numerical features, grouped by customer churn status.\n"
   ]
  },
  {
   "cell_type": "markdown",
   "metadata": {},
   "source": [
    "## 6.2 Independent T-Test: Total Night Minutes\n",
    "\n",
    "🎯 **Objective:**  \n",
    "To test whether the average total night minutes differ significantly between churned and non-churned customers using an **Independent Samples T-Test**.\n",
    "\n",
    "This statistical test helps determine whether the observed difference in means (if any) is statistically significant or likely due to random chance.\n",
    "\n",
    "---\n",
    "\n",
    "📊 **Hypotheses:**\n",
    "\n",
    "- **Null Hypothesis (H₀):**  \n",
    "  There is **no significant difference** in total night minutes between churned and non-churned customers.\n",
    "\n",
    "- **Alternative Hypothesis (H₁):**  \n",
    "  There **is a significant difference** in total night minutes between churned and non-churned customers.\n",
    "\n",
    "---\n",
    "\n",
    "✅ **Assumptions for T-Test:**\n",
    "\n",
    "- Data in each group is approximately **normally distributed**.\n",
    "- Variances between groups are **roughly equal** (or Welch's t-test is used otherwise).\n",
    "- Observations are **independent**.\n"
   ]
  },
  {
   "cell_type": "code",
   "execution_count": 21,
   "metadata": {},
   "outputs": [
    {
     "name": "stdout",
     "output_type": "stream",
     "text": [
      "T-statistic: 2.1708889020090862\n",
      "P-value: 0.030280490212476915\n",
      " There is a statistically significant difference in total night minutes between churned and non-churned customers.\n"
     ]
    }
   ],
   "source": [
    "from scipy.stats import ttest_ind\n",
    "\n",
    "# Separate groups\n",
    "churned = df[df['churn'] == True]['total night minutes']\n",
    "not_churned = df[df['churn'] == False]['total night minutes']\n",
    "\n",
    "# Perform Independent T-Test\n",
    "t_stat, p_value = ttest_ind(churned, not_churned, equal_var=False)  # Welch's t-test\n",
    "\n",
    "# Output results\n",
    "print(\"T-statistic:\", t_stat)\n",
    "print(\"P-value:\", p_value)\n",
    "\n",
    "# Interpretation guidance\n",
    "if p_value < 0.05:\n",
    "    print(\" There is a statistically significant difference in total night minutes between churned and non-churned customers.\")\n",
    "else:\n",
    "    print(\" No statistically significant difference found.\")\n"
   ]
  },
  {
   "cell_type": "markdown",
   "metadata": {},
   "source": [
    "##  6.2 Independent T-Test: Total Night Minutes\n",
    "\n",
    "### Objective:\n",
    "To test whether the average total night minutes differ significantly between churned and non-churned customers using an Independent Samples T-Test.\n",
    "\n",
    "---\n",
    "\n",
    "###  Hypotheses:\n",
    "\n",
    "- **Null Hypothesis (H₀):**  \n",
    "  There is no significant difference in total night minutes between churned and non-churned customers.\n",
    "\n",
    "- **Alternative Hypothesis (H₁):**  \n",
    "  There is a significant difference in total night minutes between churned and non-churned customers.\n",
    "\n",
    "---\n",
    "\n",
    "###  Assumptions for the T-Test:\n",
    "- Observations are independent.\n",
    "- Data in each group is approximately normally distributed.\n",
    "- Variances between groups are not assumed equal (Welch’s t-test used).\n",
    "\n",
    "---\n",
    "\n",
    "###  Results:\n",
    "\n",
    "- **T-statistic:** 2.17  \n",
    "- **P-value:** 0.0303\n",
    "\n",
    "---\n",
    "\n",
    "###  Interpretation:\n",
    "\n",
    "Since the **p-value (0.0303)** is **less than 0.05**, we **reject the null hypothesis**.  \n",
    " This means there is a **statistically significant difference** in average total night minutes between customers who churned and those who did not.\n",
    "\n",
    "This insight can be valuable for churn prediction modeling, suggesting that night usage behavior differs between the two groups.\n"
   ]
  },
  {
   "cell_type": "markdown",
   "metadata": {},
   "source": [
    "## 6.3 Independent T-Test: Customer Service Calls\n",
    "\n",
    " **Objective**  \n",
    "To assess whether the average number of customer service calls differs significantly between customers who churned and those who did not using an Independent Samples T-Test.\n",
    "\n",
    "This test helps determine if frequent customer service contact is statistically associated with higher churn likelihood.\n",
    "\n",
    "---\n",
    "\n",
    "###  Hypotheses\n",
    "\n",
    "- **Null Hypothesis (H₀):**  \n",
    "  There is no significant difference in the number of customer service calls between churned and non-churned customers.\n",
    "\n",
    "- **Alternative Hypothesis (H₁):**  \n",
    "  There is a significant difference in the number of customer service calls between churned and non-churned customers.\n",
    "\n",
    "---\n",
    "\n",
    "### Assumptions for T-Test\n",
    "\n",
    "- The data for each group is approximately normally distributed.\n",
    "- Variance between the two groups is similar (or Welch’s t-test is used otherwise).\n",
    "- Observations are independent of each other.\n"
   ]
  },
  {
   "cell_type": "code",
   "execution_count": 22,
   "metadata": {},
   "outputs": [
    {
     "name": "stdout",
     "output_type": "stream",
     "text": [
      "T-statistic: 8.95514138244338\n",
      "P-value: 5.270040385717215e-18\n"
     ]
    }
   ],
   "source": [
    "from scipy.stats import ttest_ind\n",
    "\n",
    "# Separate the data into two groups\n",
    "churned_calls = df[df['churn'] == True]['customer service calls']\n",
    "not_churned_calls = df[df['churn'] == False]['customer service calls']\n",
    "\n",
    "# Perform the independent t-test\n",
    "t_stat_calls, p_val_calls = ttest_ind(churned_calls, not_churned_calls, equal_var=False)\n",
    "\n",
    "# Print the results\n",
    "print(\"T-statistic:\", t_stat_calls)\n",
    "print(\"P-value:\", p_val_calls)\n"
   ]
  },
  {
   "cell_type": "markdown",
   "metadata": {},
   "source": [
    "###  6.3 T-Test Results: Customer Service Calls\n",
    "\n",
    "**T-statistic:** 8.96  \n",
    "**P-value:** 5.27 × 10⁻¹⁸\n",
    "\n",
    "####  Interpretation:\n",
    "\n",
    "- The **very high T-statistic** and **extremely low p-value** (far below the 0.05 threshold) indicate a **highly statistically significant difference** in the number of customer service calls between customers who churned and those who did not.\n",
    "- This strongly suggests that **churned customers tend to make more customer service calls** than non-churned customers.\n",
    "\n",
    "####  Implication:\n",
    "Customer service call frequency is a **key predictive feature** for churn. High volumes of service calls may signal dissatisfaction, making it a valuable input for churn prediction models.\n"
   ]
  },
  {
   "cell_type": "markdown",
   "metadata": {},
   "source": [
    "## 6.4 Correlation Matrix\n",
    "\n",
    " **Objective**  \n",
    "To examine the strength and direction of relationships between numerical variables in the dataset, including how they correlate with churn.\n",
    "\n",
    "Understanding correlations helps identify:\n",
    "- Redundant variables\n",
    "- Key influencers on churn\n",
    "- Potential multicollinearity issues before model building\n",
    "\n",
    " **Approach**\n",
    "- Calculate the Pearson correlation coefficient between all numerical features.\n",
    "- Visualize the results using a heatmap for easy interpretation.\n",
    "- Pay special attention to variables with strong positive or negative correlation with `churn`.\n",
    "\n",
    " **Note**  \n",
    "Correlation does not imply causation. High correlation between a feature and churn doesn’t guarantee it's the cause but indicates a potential predictive relationship.\n"
   ]
  },
  {
   "cell_type": "code",
   "execution_count": 23,
   "metadata": {},
   "outputs": [
    {
     "data": {
      "image/png": "[encoded data removed]",
      "text/plain": [
       "<Figure size 864x576 with 2 Axes>"
      ]
     },
     "metadata": {},
     "output_type": "display_data"
    }
   ],
   "source": [
    "# Note: Correlation does not imply causation.\n",
    "# High correlation indicates a predictive relationship, not causality.\n",
    "\n",
    "# Select only numeric columns for correlation\n",
    "numeric_df = df.select_dtypes(include='number')\n",
    "corr_matrix = numeric_df.corr()\n",
    "\n",
    "# Plot heatmap\n",
    "plt.figure(figsize=(12, 8))\n",
    "sns.heatmap(corr_matrix, annot=True, cmap='coolwarm', fmt=\".2f\", linewidths=0.5)\n",
    "plt.title('Correlation Matrix of Numerical Features')\n",
    "plt.tight_layout()\n",
    "plt.show()\n"
   ]
  },
  {
   "cell_type": "markdown",
   "metadata": {},
   "source": [
    " ##  Correlation Matrix Interpretation\n",
    "\n",
    "This heatmap visualizes the correlation between numerical features in the dataset. Correlation values range from **-1 to 1**:\n",
    "\n",
    "- **+1** → Perfect positive correlation (as one variable increases, the other increases)\n",
    "- **-1** → Perfect negative correlation (as one increases, the other decreases)\n",
    "- **0** → No linear relationship\n",
    "\n",
    "---\n",
    "\n",
    "###  Key Observations\n",
    "\n",
    "####  Strong Positive Correlations (≈ 1.00)\n",
    "\n",
    "| Feature Pair                           | Correlation | Interpretation |\n",
    "|----------------------------------------|-------------|----------------|\n",
    "| `total day minutes` & `total day charge`     | **1.00**      | Charges are directly based on usage. |\n",
    "| `total eve minutes` & `total eve charge`     | **1.00**      | Linear billing relationship. |\n",
    "| `total night minutes` & `total night charge` | **1.00**      | Charges are proportional to minutes. |\n",
    "| `total intl minutes` & `total intl charge`   | **1.00**      | Charges stem directly from international usage. |\n",
    "\n",
    "> These perfect correlations are expected due to the way charges are calculated.\n",
    "\n",
    "---\n",
    "\n",
    "####  Low or No Correlation (≈ 0)\n",
    "\n",
    "Most other features have weak or no linear relationships:\n",
    "\n",
    "- `customer service calls` with all other features\n",
    "- `number vmail messages` with usage or billing features\n",
    "- `account length` with usage patterns or charges\n",
    "\n",
    "> These features contribute independent signals to the dataset.\n",
    "\n",
    "---\n",
    "\n",
    "####  Weak Negative Correlations (≈ -0.01)\n",
    "\n",
    "- `area code` shows weak negative correlation with some variables.\n",
    "- No significant inverse relationships observed.\n",
    "\n",
    "---\n",
    "\n",
    "###  Recommendations for Modeling\n",
    "\n",
    "- **Remove redundant features** (e.g., drop charges or minutes where correlation = 1.0) to avoid multicollinearity in models like **linear regression**.\n",
    "- **Retain independent features** such as:\n",
    "  - `customer service calls`\n",
    "  - `number vmail messages`\n",
    "  - `total intl calls`\n",
    "\n",
    "These may offer valuable signals for prediction tasks.\n"
   ]
  },
  {
   "cell_type": "markdown",
   "metadata": {},
   "source": [
    "##  Step 6.5: Chi-Square Test of Independence\n",
    "\n",
    "### Objective:\n",
    "To determine if there is a statistically significant association between the number of customer service calls (categorical) and customer churn.\n",
    "\n",
    "---\n",
    "\n",
    "### Hypotheses:\n",
    "\n",
    "- **Null Hypothesis (H₀):** Churn is independent of the number of customer service calls.  \n",
    "- **Alternative Hypothesis (H₁):** Churn is dependent on the number of customer service calls.\n"
   ]
  },
  {
   "cell_type": "code",
   "execution_count": 24,
   "metadata": {},
   "outputs": [
    {
     "name": "stdout",
     "output_type": "stream",
     "text": [
      "Chi-Square Statistic: 342.67460696087505\n",
      "P-value: 2.243376519451563e-68\n"
     ]
    }
   ],
   "source": [
    "import pandas as pd\n",
    "import scipy.stats as stats\n",
    "\n",
    "# Create a contingency table\n",
    "contingency_table = pd.crosstab(df['customer service calls'], df['churn'])\n",
    "\n",
    "# Perform Chi-Square Test\n",
    "chi2, p, dof, expected = stats.chi2_contingency(contingency_table)\n",
    "\n",
    "# Output results\n",
    "print(\"Chi-Square Statistic:\", chi2)\n",
    "print(\"P-value:\", p)\n"
   ]
  },
  {
   "cell_type": "markdown",
   "metadata": {},
   "source": [
    "\n",
    "###  Test Results:\n",
    "\n",
    "- **Chi-Square Statistic:** 342.67  \n",
    "- **P-value:** 2.24e-68\n",
    "\n",
    "---\n",
    "\n",
    "###  Conclusion:\n",
    "\n",
    "Since the **p-value is far less than 0.05**, we **reject the null hypothesis**.\n",
    "\n",
    "This means there **is a statistically significant relationship** between the number of customer service calls and customer churn.\n",
    "\n",
    "---\n",
    "\n",
    "### Interpretation:\n",
    "\n",
    "Customers who contact customer service more frequently are **more likely to churn**.  \n",
    "This variable is an important **categorical predictor** and should be included in churn prediction models.\n"
   ]
  },
  {
   "cell_type": "markdown",
   "metadata": {},
   "source": [
    "##  Step 6.6: One-Way ANOVA — Total Day Minutes by Area Code\n",
    "\n",
    "###  Objective:\n",
    "To determine if there's a statistically significant difference in **total day minutes** across different **area codes**.\n",
    "\n",
    "---\n",
    "\n",
    "###  Hypotheses:\n",
    "\n",
    "- **Null Hypothesis (H₀):**  \n",
    "  There is **no significant difference** in total day minutes across area codes.\n",
    "\n",
    "- **Alternative Hypothesis (H₁):**  \n",
    "  At least **one area code group** has a **significantly different mean** of total day minutes.\n",
    "\n",
    "---\n",
    "\n",
    "###  Assumptions:\n",
    "\n",
    "1. **Independence:**  \n",
    "   Samples are independent of each other.\n",
    "\n",
    "2. **Normality:**  \n",
    "   The data in each group is approximately **normally distributed**.\n",
    "\n",
    "3. **Homogeneity of Variance:**  \n",
    "   Variance is **roughly equal across all groups** (homoscedasticity).\n",
    "\n",
    "---\n"
   ]
  },
  {
   "cell_type": "code",
   "execution_count": 25,
   "metadata": {},
   "outputs": [
    {
     "name": "stdout",
     "output_type": "stream",
     "text": [
      "F-statistic: 2.0152078300949974\n",
      "P-value: 0.1334552217622214\n"
     ]
    }
   ],
   "source": [
    "from scipy.stats import f_oneway\n",
    "\n",
    "# Separate groups based on area code\n",
    "group_408 = df[df['area code'] == 408]['total day minutes']\n",
    "group_415 = df[df['area code'] == 415]['total day minutes']\n",
    "group_510 = df[df['area code'] == 510]['total day minutes']\n",
    "\n",
    "# Run one-way ANOVA\n",
    "f_stat, p_value = f_oneway(group_408, group_415, group_510)\n",
    "\n",
    "print(f\"F-statistic: {f_stat}\")\n",
    "print(f\"P-value: {p_value}\")\n"
   ]
  },
  {
   "cell_type": "markdown",
   "metadata": {},
   "source": [
    "##  Interpretation:\n",
    "Since the p-value (0.1335) > 0.05, we fail to reject the null hypothesis.\n",
    "\n",
    "This means that there is no statistically significant difference in the mean total day minutes among area codes 408, 415, and 510.\n",
    "\n",
    "## Conclusion:\n",
    "Area code does not significantly affect the total day minutes. Users from different area codes spend a similar amount of time on calls during the day."
   ]
  },
  {
   "cell_type": "markdown",
   "metadata": {},
   "source": [
    "###  Step 6.7: Mann-Whitney U Test — Comparing Total International Charge by Churn\n",
    "\n",
    "---\n",
    "\n",
    "####  Objective:\n",
    "To determine whether the distribution of **total international charge** differs significantly between churned and non-churned customers — especially when we **cannot assume normality**, unlike the T-test.\n",
    "\n",
    "---\n",
    "\n",
    "####  Why Mann-Whitney U?\n",
    "\n",
    "- Non-parametric alternative to the t-test  \n",
    "- **Does not assume normal distribution**  \n",
    "- Compares the **rankings** (not means) of two independent samples  \n",
    "\n",
    "---\n",
    "\n",
    "####  Hypotheses:\n",
    "\n",
    "- **Null Hypothesis (H₀):**  \n",
    "  There is **no difference** in the distribution of total international charges between churned and non-churned customers.\n",
    "\n",
    "- **Alternative Hypothesis (H₁):**  \n",
    "  There **is a difference** in the distribution of total international charges between the two groups.\n",
    "\n",
    "---\n",
    "\n",
    "####  Assumptions:\n",
    "\n",
    "- The samples are **independent**  \n",
    "- The dependent variable is **ordinal or continuous**  \n",
    "- The groups are **mutually exclusive**  \n",
    "\n",
    "---\n"
   ]
  },
  {
   "cell_type": "code",
   "execution_count": 26,
   "metadata": {},
   "outputs": [
    {
     "name": "stdout",
     "output_type": "stream",
     "text": [
      "Mann-Whitney U Statistic: 756962.0\n",
      "P-value: 0.0004439644033479516\n"
     ]
    }
   ],
   "source": [
    "from scipy.stats import mannwhitneyu\n",
    "\n",
    "# Separate total intl charge into churned and not churned groups\n",
    "intl_charge_churned = df[df['churn'] == True]['total intl charge']\n",
    "intl_charge_not_churned = df[df['churn'] == False]['total intl charge']\n",
    "\n",
    "# Perform the Mann-Whitney U Test\n",
    "u_stat, p_val = mannwhitneyu(intl_charge_churned, intl_charge_not_churned, alternative='two-sided')\n",
    "\n",
    "# Print results\n",
    "print(\"Mann-Whitney U Statistic:\", u_stat)\n",
    "print(\"P-value:\", p_val)\n",
    "\n"
   ]
  },
  {
   "cell_type": "markdown",
   "metadata": {},
   "source": [
    "###  Interpretation of Mann-Whitney U Test Results\n",
    "\n",
    "**Test Output**  \n",
    "- **Mann-Whitney U Statistic:** `756,962.0`  \n",
    "- **P-value:** `0.00044`\n",
    "\n",
    "---\n",
    "\n",
    "####  Statistical Decision\n",
    "\n",
    "Given the very small p-value (**0.00044 < 0.05**), we **reject the null hypothesis**.\n",
    "\n",
    "---\n",
    "\n",
    "#### Conclusion\n",
    "\n",
    "There is a **statistically significant difference** in the **distribution of total international charges** between churned and non-churned customers. This suggests that **churn behavior may be associated with how much customers are charged for international calls** — even though the average charges might not differ greatly, the distribution does.\n",
    "\n",
    "---\n",
    "\n",
    "####  Why This Matters\n",
    "\n",
    "Unlike the t-test (which compares means under normality), the Mann-Whitney U test focuses on **rankings**. The result tells us that **churned customers tend to have a different pattern of international charge amounts** compared to those who stayed — a potentially valuable insight for customer segmentation or predictive modeling.\n"
   ]
  },
  {
   "cell_type": "markdown",
   "metadata": {},
   "source": [
    "# Step 7: Machine Learning — Predicting Customer Churn\n",
    "\n",
    "---\n",
    "\n",
    "### Objective\n",
    "\n",
    "The objective of this step is to build, evaluate, and interpret machine learning models that can predict whether a customer will churn based on their usage patterns and account characteristics. This is a pivotal phase of the project, transforming exploratory insights into actionable predictions that can inform data-driven decision-making.\n",
    "\n",
    "To stand out, I go beyond basic modeling by applying robust **data preparation**, **feature engineering**, and **scikit-learn pipelines**. I also explore multiple types of models, including **nonparametric** and **ensemble methods**, and tune at least one model using **grid search**. The focus is on both **performance** and **interpretability**, ensuring that the model’s output is reliable, explainable, and useful to business stakeholders.\n",
    "\n",
    "---\n",
    "\n",
    "###  Key Concepts\n",
    "\n",
    "- **Data Preparation Pipelines**  \n",
    "  Automating preprocessing using `Pipeline` and `ColumnTransformer` to ensure consistency and prevent data leakage.\n",
    "\n",
    "- **Feature Engineering**  \n",
    "  Enhancing model performance by creating or transforming features based on domain knowledge and statistical insights.\n",
    "\n",
    "- **Modeling Approaches**  \n",
    "  Training and comparing several models including:\n",
    "  - Logistic Regression *(baseline)*\n",
    "  - Decision Tree *(nonparametric)*\n",
    "  - Random Forest *(ensemble method)*\n",
    "\n",
    "- **Hyperparameter Tuning**  \n",
    "  Using `GridSearchCV` to optimize model performance and avoid overfitting.\n",
    "\n",
    "- **Model Evaluation**  \n",
    "  Interpreting key metrics such as:\n",
    "  - Accuracy\n",
    "  - Precision\n",
    "  - Recall\n",
    "  - F1-score\n",
    "  - Confusion Matrix\n",
    "\n",
    "- **Interpretability & Communication**  \n",
    "  Extracting and visualizing feature importances and generating clear, actionable business recommendations.\n",
    "\n",
    "---\n",
    "\n",
    "###  Success Criteria (Rubric-Based)\n",
    "\n",
    "| Category                         | How I Exceed the Objective                                                                  |\n",
    "|----------------------------------|----------------------------------------------------------------------------------------------|\n",
    "| **ML Communication**             | Provide clear rationale, model results, interpretation, limitations, and recommendations.    |\n",
    "| **Data Preparation**             | Use `Pipeline`, `ColumnTransformer`, scaling, encoding, and thoughtful feature selection.    |\n",
    "| **Nonparametric & Ensemble Models** | Use and justify models like Decision Tree and Random Forest, with hyperparameter tuning. |\n",
    "\n",
    "---\n",
    "\n",
    "###  Next Steps\n",
    "\n",
    "I now proceed by:\n",
    "\n",
    "- Preparing the feature matrix `X` and the target variable `y`.\n",
    "- Splitting the data into training and test sets.\n",
    "- Building a complete data preprocessing pipeline, including:\n",
    "  - Imputation (if needed)\n",
    "  - Encoding of categorical variables\n",
    "  - Feature scaling\n",
    "- Training and evaluating multiple classification models.\n",
    "- Communicating findings and insights with clarity and impact.\n"
   ]
  },
  {
   "cell_type": "markdown",
   "metadata": {},
   "source": [
    "### 7.1: Import Machine Learning Libraries"
   ]
  },
  {
   "cell_type": "code",
   "execution_count": 30,
   "metadata": {},
   "outputs": [],
   "source": [
    "#  Scikit-learn: Model Building & Evaluation\n",
    "from sklearn.model_selection import train_test_split, GridSearchCV\n",
    "from sklearn.pipeline import Pipeline\n",
    "from sklearn.compose import ColumnTransformer\n",
    "from sklearn.preprocessing import StandardScaler, OneHotEncoder\n",
    "from sklearn.impute import SimpleImputer\n",
    "\n",
    "#  Scikit-learn: Models\n",
    "from sklearn.linear_model import LogisticRegression\n",
    "from sklearn.tree import DecisionTreeClassifier\n",
    "from sklearn.ensemble import RandomForestClassifier\n",
    "\n",
    "# Scikit-learn: Model Evaluation Metrics\n",
    "from sklearn.metrics import (\n",
    "    accuracy_score,\n",
    "    precision_score,\n",
    "    recall_score,\n",
    "    f1_score,\n",
    "    confusion_matrix,\n",
    "    classification_report,\n",
    "    ConfusionMatrixDisplay\n",
    ")\n"
   ]
  },
  {
   "cell_type": "markdown",
   "metadata": {},
   "source": [
    "### Step 7.2: Define Features (X) and Target (y) + Train-Test Split\n",
    "#### Objective\n",
    "Before modeling, I need to separate my features and target variable. The target is whether a customer churned. I will then split the data into training and testing sets to evaluate model generalization."
   ]
  },
  {
   "cell_type": "code",
   "execution_count": 31,
   "metadata": {},
   "outputs": [
    {
     "name": "stdout",
     "output_type": "stream",
     "text": [
      "Training Features Shape: (2666, 17)\n",
      "Testing Features Shape: (667, 17)\n",
      "Training Labels Shape: (2666,)\n",
      "Testing Labels Shape: (667,)\n"
     ]
    }
   ],
   "source": [
    "#  Define the target variable\n",
    "y = df['churn']  # This is what I want to predict\n",
    "\n",
    "#  Define the feature matrix (dropping churn and other non-predictive columns if needed)\n",
    "X = df.drop(columns=['churn', 'state', 'area code', 'phone number'])  # Remove identifiers\n",
    "\n",
    "#  Split into training and testing sets (80/20 split for better generalization)\n",
    "X_train, X_test, y_train, y_test = train_test_split(\n",
    "    X, y, test_size=0.2, random_state=42, stratify=y\n",
    ")\n",
    "\n",
    "#  Shape check\n",
    "print(\"Training Features Shape:\", X_train.shape)\n",
    "print(\"Testing Features Shape:\", X_test.shape)\n",
    "print(\"Training Labels Shape:\", y_train.shape)\n",
    "print(\"Testing Labels Shape:\", y_test.shape)\n"
   ]
  },
  {
   "cell_type": "markdown",
   "metadata": {},
   "source": [
    "### Why I Dropped Certain Columns\n",
    "- state, area code, and phone number are not useful predictors:\n",
    "\n",
    "- phone number is a unique identifier.\n",
    "\n",
    "- state and area code may introduce noise or overfit the model unless analyzed deeper."
   ]
  },
  {
   "cell_type": "markdown",
   "metadata": {},
   "source": [
    "##  Step 7.3: Build a Preprocessing Pipeline Using `ColumnTransformer`\n",
    "\n",
    "###  Objective\n",
    "To ensure consistent, clean, and efficient data preparation, I will build a robust preprocessing pipeline using `scikit-learn`’s `ColumnTransformer` and `Pipeline`. This will handle encoding of categorical variables and scaling of numeric variables, all while avoiding data leakage.\n",
    "\n",
    "---\n",
    "\n",
    "### Why Use Pipelines and ColumnTransformer?\n",
    "\n",
    "- ✅ Prevents **data leakage** by fitting only on training data.\n",
    "- ✅ Ensures **reproducibility** and **consistency** in preprocessing.\n",
    "- ✅ Allows for **clean integration** with `GridSearchCV` and model training.\n"
   ]
  },
  {
   "cell_type": "code",
   "execution_count": 32,
   "metadata": {},
   "outputs": [],
   "source": [
    "from sklearn.compose import ColumnTransformer\n",
    "from sklearn.pipeline import Pipeline\n",
    "from sklearn.preprocessing import StandardScaler, OneHotEncoder\n",
    "\n",
    "# Identify column types\n",
    "numerical_cols = X.select_dtypes(include=['int64', 'float64']).columns.tolist()\n",
    "categorical_cols = X.select_dtypes(include=['object', 'bool']).columns.tolist()\n",
    "\n",
    "#  Preprocessing for numerical data: StandardScaler\n",
    "numeric_transformer = Pipeline(steps=[\n",
    "    ('scaler', StandardScaler())\n",
    "])\n",
    "\n",
    "# Preprocessing for categorical data: OneHotEncoder\n",
    "categorical_transformer = Pipeline(steps=[\n",
    "    ('onehot', OneHotEncoder(handle_unknown='ignore', sparse=False))\n",
    "])\n",
    "\n",
    "#  Combine preprocessing steps\n",
    "preprocessor = ColumnTransformer(transformers=[\n",
    "    ('num', numeric_transformer, numerical_cols),\n",
    "    ('cat', categorical_transformer, categorical_cols)\n",
    "])\n"
   ]
  },
  {
   "cell_type": "markdown",
   "metadata": {},
   "source": [
    "### Explanation of Components\n",
    "- **StandardScaler():** Normalizes numeric features to mean 0 and standard deviation 1.\n",
    "\n",
    "- **OneHotEncoder():** Converts categorical variables into binary indicator columns.\n",
    "\n",
    "- **handle_unknown='ignore':** Prevents issues when new categories appear in test data.\n",
    "\n",
    "- **sparse=False:** Returns a dense array, helpful for easier model compatibility.\n",
    "\n"
   ]
  },
  {
   "cell_type": "markdown",
   "metadata": {},
   "source": [
    "##  Step 7.4: Split the Data into Training and Testing Sets\n",
    "\n",
    "### Objective\n",
    "Before building and training any machine learning models, I will split the data into training and testing sets. This ensures that model evaluation is done on unseen data, providing a realistic estimate of performance.\n",
    "\n",
    "---\n",
    "\n",
    "###  Why Split the Data?\n",
    "\n",
    "-  Prevents **overfitting** by evaluating on unseen test data.\n",
    "-  Ensures **fair model evaluation** and comparison.\n",
    "-  Keeps preprocessing clean: transformations should only be learned from training data.\n",
    "\n",
    "---\n",
    "\n",
    "###  Implementation\n",
    "I will use `train_test_split` from `sklearn.model_selection` with a `test_size` of 20%, and a `random_state` for reproducibility.\n"
   ]
  },
  {
   "cell_type": "code",
   "execution_count": 33,
   "metadata": {},
   "outputs": [
    {
     "name": "stdout",
     "output_type": "stream",
     "text": [
      "Train churn distribution:\n",
      " False    0.855214\n",
      "True     0.144786\n",
      "Name: churn, dtype: float64\n",
      "Test churn distribution:\n",
      " False    0.854573\n",
      "True     0.145427\n",
      "Name: churn, dtype: float64\n"
     ]
    }
   ],
   "source": [
    "# ✅ Step 7.4: Split the data\n",
    "from sklearn.model_selection import train_test_split\n",
    "\n",
    "# Split features and target\n",
    "X = df.drop(columns='churn')\n",
    "y = df['churn']\n",
    "\n",
    "# Perform the split\n",
    "X_train, X_test, y_train, y_test = train_test_split(\n",
    "    X, y, test_size=0.2, random_state=42, stratify=y\n",
    ")\n",
    "\n",
    "# Check the class distribution\n",
    "print(\"Train churn distribution:\\n\", y_train.value_counts(normalize=True))\n",
    "print(\"Test churn distribution:\\n\", y_test.value_counts(normalize=True))"
   ]
  },
  {
   "cell_type": "markdown",
   "metadata": {},
   "source": [
    "##  Step 7.5: Insert Feature Engineering into the Pipeline\n",
    "\n",
    "###  Objective  \n",
    "Before training models, I will enhance the dataset by engineering new features based on domain knowledge and data insights. These new features will be **inserted directly into the preprocessing pipeline**, ensuring they are only created using the training set during cross-validation or grid search, preventing data leakage.\n",
    "\n",
    "---\n",
    "\n",
    "###  Why Do Feature Engineering Inside the Pipeline?\n",
    "\n",
    "-  Keeps data transformations **reproducible** and **organized**.\n",
    "-  Prevents **data leakage** by applying transformations only on training folds during cross-validation.\n",
    "-  Allows seamless **integration** with `GridSearchCV`, `Pipeline`, and `ColumnTransformer`.\n",
    "\n",
    "---\n",
    "\n",
    "###  What Features Will Be Engineered?\n",
    "\n",
    "Here are a few examples I might include:\n",
    "\n",
    "| Feature Name                  | Logic                                                           |\n",
    "|------------------------------|------------------------------------------------------------------|\n",
    "| `avg_charges_per_service`    | Total charges / number of services used                         |\n",
    "| `tenure_bin`                 | Bin customer tenure into categories (e.g., short, mid, long)     |\n",
    "| `is_multiple_services`       | True if customer uses >2 services                               |\n",
    "| `is_long_term_customer`      | True if tenure > X months (e.g., 24)                             |\n",
    "\n",
    "These will be implemented using a **custom transformer** and inserted into the pipeline **before** standard scaling and encoding.\n"
   ]
  },
  {
   "cell_type": "code",
   "execution_count": 35,
   "metadata": {},
   "outputs": [],
   "source": [
    "#  Step 7.5: Add Feature Engineering Steps to the Preprocessing Pipeline\n",
    "\n",
    "from sklearn.base import BaseEstimator, TransformerMixin\n",
    "\n",
    "#  Custom Feature Engineering Transformer\n",
    "class FeatureEngineer(BaseEstimator, TransformerMixin):\n",
    "    def __init__(self):\n",
    "        pass\n",
    "    \n",
    "    def fit(self, X, y=None):\n",
    "        return self\n",
    "\n",
    "    def transform(self, X):\n",
    "        # Create a copy to avoid altering original data\n",
    "        X = X.copy()\n",
    "\n",
    "        # 📊 Example engineered feature: total charge per call\n",
    "        X['intl_charge_per_call'] = X['total intl charge'] / (X['total intl calls'] + 1e-5)\n",
    "\n",
    "        # 📊 Example engineered feature: night call ratio\n",
    "        X['night_call_ratio'] = X['total night calls'] / (X['total day calls'] + 1e-5)\n",
    "\n",
    "        return X\n",
    "\n",
    "#  Update the numeric pipeline to include feature engineering before scaling\n",
    "numeric_transformer = Pipeline(steps=[\n",
    "    ('feature_engineering', FeatureEngineer()),  # Custom transformer step\n",
    "    ('scaler', StandardScaler())\n",
    "])\n",
    "\n",
    "#  Update the overall preprocessing pipeline\n",
    "preprocessor = ColumnTransformer(transformers=[\n",
    "    ('num', numeric_transformer, numerical_cols),\n",
    "    ('cat', categorical_transformer, categorical_cols)\n",
    "])\n"
   ]
  },
  {
   "cell_type": "markdown",
   "metadata": {},
   "source": [
    "### What This Step Does:\n",
    "It creates a custom FeatureEngineer class that plugs seamlessly into your scikit-learn pipeline.\n",
    "\n",
    "It adds two new engineered features:\n",
    "\n",
    "intl_charge_per_call: Charges relative to call volume.\n",
    "\n",
    "night_call_ratio: Usage behavior comparison between night and day calls.\n",
    "\n",
    "These features are calculated and scaled inside the pipeline, ensuring clean, reproducible, and leak-free transformations.\n",
    "\n"
   ]
  },
  {
   "cell_type": "markdown",
   "metadata": {},
   "source": [
    "##  Step 7.6: Train Models, Tune Them, and Interpret Results\n",
    "\n",
    "### Objective\n",
    "To train multiple machine learning models, evaluate their performance, and select the best one based on key metrics like **accuracy**, **precision**, **recall**, **F1-score**, and **ROC-AUC**.\n",
    "\n",
    "---\n",
    "\n",
    "###  Why Train Multiple Models?\n",
    "\n",
    "- ✅ Different algorithms have strengths on different data distributions.\n",
    "- ✅ Helps compare performance and robustness.\n",
    "- ✅ Some models are better suited for **interpretability**, others for **raw performance**.\n",
    "\n",
    "---\n",
    "\n",
    "###  Models to Train\n",
    "\n",
    "We’ll start with a few baseline and advanced models:\n",
    "\n",
    "- **Logistic Regression**\n",
    "- **Random Forest Classifier**\n",
    "- **XGBoost Classifier**\n",
    "\n",
    "(Optional later: **SVC**, **KNN**, **Voting Classifier**, etc.)\n",
    "\n",
    "---\n",
    "\n",
    "###  Approach\n",
    "\n",
    "1. Create a **reusable function** to train and evaluate models.\n",
    "2. Use the **preprocessing pipeline** inside a `Pipeline()` with each model.\n",
    "3. Perform **cross-validation** for better generalization performance.\n",
    "4. Compare **evaluation metrics** side by side.\n"
   ]
  },
  {
   "cell_type": "markdown",
   "metadata": {},
   "source": [
    "## Step 7.6.1: Define a Reusable Model Evaluation Function\n"
   ]
  },
  {
   "cell_type": "code",
   "execution_count": 36,
   "metadata": {},
   "outputs": [],
   "source": [
    "from sklearn.pipeline import Pipeline\n",
    "from sklearn.metrics import accuracy_score, precision_score, recall_score, f1_score, roc_auc_score\n",
    "from sklearn.model_selection import cross_val_score\n",
    "\n",
    "# Dictionary to store evaluation results\n",
    "model_results = {}\n",
    "\n",
    "# Reusable function to train and evaluate a model\n",
    "def evaluate_model(name, model):\n",
    "    pipeline = Pipeline(steps=[\n",
    "        ('preprocessing', preprocessor),\n",
    "        ('classifier', model)\n",
    "    ])\n",
    "    \n",
    "    # Fit the model\n",
    "    pipeline.fit(X_train, y_train)\n",
    "\n",
    "    # Predict on test set\n",
    "    y_pred = pipeline.predict(X_test)\n",
    "    y_proba = pipeline.predict_proba(X_test)[:, 1] if hasattr(pipeline, \"predict_proba\") else None\n",
    "\n",
    "    # Calculate metrics\n",
    "    accuracy = accuracy_score(y_test, y_pred)\n",
    "    precision = precision_score(y_test, y_pred)\n",
    "    recall = recall_score(y_test, y_pred)\n",
    "    f1 = f1_score(y_test, y_pred)\n",
    "    roc_auc = roc_auc_score(y_test, y_proba) if y_proba is not None else None\n",
    "\n",
    "    # Store results\n",
    "    model_results[name] = {\n",
    "        'Accuracy': accuracy,\n",
    "        'Precision': precision,\n",
    "        'Recall': recall,\n",
    "        'F1 Score': f1,\n",
    "        'ROC-AUC': roc_auc\n",
    "    }\n",
    "\n",
    "    # Print results\n",
    "    print(f\"📊 Evaluation for {name}:\")\n",
    "    print(f\"  Accuracy   : {accuracy:.4f}\")\n",
    "    print(f\"  Precision  : {precision:.4f}\")\n",
    "    print(f\"  Recall     : {recall:.4f}\")\n",
    "    print(f\"  F1 Score   : {f1:.4f}\")\n",
    "    if y_proba is not None:\n",
    "        print(f\"  ROC-AUC    : {roc_auc:.4f}\")\n",
    "    print(\"-\" * 40)\n"
   ]
  },
  {
   "cell_type": "code",
   "execution_count": null,
   "metadata": {},
   "outputs": [],
   "source": []
  }
 ],
 "metadata": {
  "kernelspec": {
   "display_name": "Python (learn-env)",
   "language": "python",
   "name": "learn-env"
  },
  "language_info": {
   "codemirror_mode": {
    "name": "ipython",
    "version": 3
   },
   "file_extension": ".py",
   "mimetype": "text/x-python",
   "name": "python",
   "nbconvert_exporter": "python",
   "pygments_lexer": "ipython3",
   "version": "3.8.5"
  }
 },
 "nbformat": 4,
 "nbformat_minor": 4
}
